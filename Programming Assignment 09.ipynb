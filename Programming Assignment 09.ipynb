{
 "cells": [
  {
   "attachments": {},
   "cell_type": "markdown",
   "metadata": {},
   "source": [
    "# Programming Assignment 9\n",
    "1.\tWrite a Python program to check if the given number is a Disarium Number?\n",
    "2.\tWrite a Python program to print all disarium numbers between 1 to 100?\n",
    "3.\tWrite a Python program to check if the given number is Happy Number?\n",
    "4.\tWrite a Python program to print all happy numbers between 1 and 100?\n",
    "5.\tWrite a Python program to determine whether the given number is a Harshad Number?\n",
    "6.\tWrite a Python program to print all pronic numbers between 1 and 100?\n",
    "\n",
    "\n",
    "## > 1.\tWrite a Python program to check if the given number is a Disarium Number?\n",
    "- A number is called Disarium if sum of its digits powered with their respective positions is equal to the number itself.\n",
    "```\n",
    "Input   : n = 135\n",
    "Output  : Yes \n",
    "1^1 + 3^2 + 5^3 = 135\n",
    "Therefore, 135 is a Disarium number\n",
    "```\n",
    "- The idea is to first count digits in given numbers. Once we have count, we traverse all digits from right most (using % operator), raise its power to digit count and decrement the digit count.\n",
    "\n",
    "Below is the implementation of above idea. \n"
   ]
  },
  {
   "cell_type": "code",
   "execution_count": 14,
   "metadata": {},
   "outputs": [
    {
     "name": "stdout",
     "output_type": "stream",
     "text": [
      "135 is a Disarium Number\n"
     ]
    }
   ],
   "source": [
    "# Python program to check whether a number is Disarium\n",
    "# or not\n",
    "import math\n",
    "\n",
    "# Method to check whether a number is disarium or not\n",
    "def check(n) :\n",
    "\t# Count digits in n.\n",
    "\tcount_digits = len(str(n))\n",
    "\t\n",
    "\t# Compute sum of terms like digit multiplied by power of position\n",
    "\tsum = 0 # Initialize sum of terms\n",
    "\tx = n\n",
    "\t\n",
    "\twhile (x!=0) :\n",
    "\n",
    "\t\t# Get the rightmost digit      \n",
    "\t\tr = x % 10                    # 135--> 5\n",
    "\t\t\n",
    "\n",
    "\n",
    "\t\t# Sum the digits by powering according to the positions\n",
    "\t\tsum = (int) (sum + math.pow(r, count_digits))    # r ** count_digits       5 ** 3\n",
    "\t\tcount_digits = count_digits - 1\n",
    "\t\tx = x//10                        # 135 --> 13 double division\n",
    "\t\t\n",
    "\n",
    "\n",
    "\t# If sum is same as number, then number is\n",
    "\tif sum == n :\n",
    "\t\treturn 1\n",
    "\telse :\n",
    "\t\treturn 0\n",
    "\t\n",
    "\n",
    "\t\n",
    "# Driver method\n",
    "n = 135\n",
    "if (check(n) == 1) :\n",
    "\tprint (f\"{n} is a Disarium Number\")\n",
    "else :\n",
    "\tprint (f\"{n} is not a Disarium Number\")\n",
    "\n"
   ]
  },
  {
   "cell_type": "code",
   "execution_count": 15,
   "metadata": {},
   "outputs": [
    {
     "name": "stdout",
     "output_type": "stream",
     "text": [
      "111 is not a Disarium Number\n"
     ]
    }
   ],
   "source": [
    "n = 111\n",
    "if (check(n) == 1) :\n",
    "\tprint (f\"{n} is a Disarium Number\")\n",
    "else :\n",
    "\tprint (f\"{n} is not a Disarium Number\")"
   ]
  },
  {
   "cell_type": "code",
   "execution_count": 11,
   "metadata": {},
   "outputs": [
    {
     "data": {
      "text/plain": [
       "5"
      ]
     },
     "execution_count": 11,
     "metadata": {},
     "output_type": "execute_result"
    }
   ],
   "source": [
    "x = 135\n",
    "r = x % 10\n",
    "r"
   ]
  },
  {
   "cell_type": "code",
   "execution_count": 12,
   "metadata": {},
   "outputs": [
    {
     "data": {
      "text/plain": [
       "13"
      ]
     },
     "execution_count": 12,
     "metadata": {},
     "output_type": "execute_result"
    }
   ],
   "source": [
    "x = x//10\n",
    "x"
   ]
  },
  {
   "cell_type": "code",
   "execution_count": 13,
   "metadata": {},
   "outputs": [
    {
     "name": "stdout",
     "output_type": "stream",
     "text": [
      "Help on built-in function pow in module math:\n",
      "\n",
      "pow(x, y, /)\n",
      "    Return x**y (x to the power of y).\n",
      "\n"
     ]
    }
   ],
   "source": [
    "help(math.pow)"
   ]
  },
  {
   "cell_type": "code",
   "execution_count": 16,
   "metadata": {},
   "outputs": [
    {
     "name": "stdout",
     "output_type": "stream",
     "text": [
      "135 is a Disarium Number\n"
     ]
    }
   ],
   "source": [
    "def checkDisariumNumber():\n",
    "    in_num = input('Enter a Number: ')                 # returns string\n",
    "    sum = 0\n",
    "    for item in range(len(in_num)):                    # iterating through number of digits\n",
    "        sum = sum + int(in_num[item])  **  (item+1)\n",
    "    if sum == int(in_num):\n",
    "        print(f'{in_num} is a Disarium Number')\n",
    "    else:\n",
    "        print(f'{in_num} is a Not Disarium Number') \n",
    "\n",
    "checkDisariumNumber()"
   ]
  },
  {
   "cell_type": "code",
   "execution_count": 17,
   "metadata": {},
   "outputs": [
    {
     "name": "stdout",
     "output_type": "stream",
     "text": [
      "111 is a Not Disarium Number\n"
     ]
    }
   ],
   "source": [
    "checkDisariumNumber()"
   ]
  },
  {
   "cell_type": "markdown",
   "metadata": {},
   "source": [
    "## > 2.\tWrite a Python program to print all disarium numbers between 1 to 100?\n"
   ]
  },
  {
   "cell_type": "code",
   "execution_count": 18,
   "metadata": {},
   "outputs": [],
   "source": [
    "def printDisariumNumbers(start=0,end=100):\n",
    "    output_num = []\n",
    "    for number in range(start,end+1):\n",
    "        sum = 0\n",
    "        for item in range(len(str(number))):\n",
    "            sum = sum + int(str(number)[item])   **  (item+1)\n",
    "        if sum == number:\n",
    "            output_num.append(number)\n",
    "    return output_num"
   ]
  },
  {
   "cell_type": "code",
   "execution_count": 19,
   "metadata": {},
   "outputs": [
    {
     "data": {
      "text/plain": [
       "[1, 2, 3, 4, 5, 6, 7, 8, 9, 89, 135, 175, 518, 598]"
      ]
     },
     "execution_count": 19,
     "metadata": {},
     "output_type": "execute_result"
    }
   ],
   "source": [
    "printDisariumNumbers(1,1000)"
   ]
  },
  {
   "attachments": {},
   "cell_type": "markdown",
   "metadata": {},
   "source": [
    "## > 3.\tWrite a Python program to check if the given number is Happy Number?\n",
    "- A number is called happy if it leads to 1 after a sequence of steps wherein each step number is replaced by the **sum of squares** of its digit that is if we start with Happy Number and keep replacing it with digits square sum, we reach 1. \n",
    "\n",
    "```\n",
    "Input: n = 19\n",
    "Output: True\n",
    "19 is Happy Number,\n",
    "1^2 + 9^2 = 82\n",
    "8^2 + 2^2 = 68\n",
    "6^2 + 8^2 = 100\n",
    "1^2 + 0^2 + 0^2 = 1\n",
    "As we reached to 1, 19 is a Happy Number.\n",
    "```\n",
    "- A number will not be a Happy Number when it makes a loop in its sequence that is it touches a number in sequence which already been touched. So to check whether a number is happy or not, we can keep a set, if the same number occurs again we flag result as not happy. A simple function on the above approach can be written as below –  \n"
   ]
  },
  {
   "cell_type": "code",
   "execution_count": 1,
   "metadata": {},
   "outputs": [],
   "source": [
    "def is_Happy_num(n):\n",
    "  past = set()\n",
    "  while n != 1:\n",
    "        n = sum(int(i)**2 for i in str(n))\n",
    "        if n in past:\n",
    "            return False\n",
    "        past.add(n)\n",
    "  return True\n"
   ]
  },
  {
   "cell_type": "code",
   "execution_count": 3,
   "metadata": {},
   "outputs": [
    {
     "name": "stdout",
     "output_type": "stream",
     "text": [
      "7 is a Happy Number\n"
     ]
    }
   ],
   "source": [
    "# Driver method\n",
    "n = 7\n",
    "if (is_Happy_num(n) == 1) :\n",
    "\tprint (f\"{n} is a Happy Number\")\n",
    "else :\n",
    "\tprint (f\"{n} is not a happy Number\")\n"
   ]
  },
  {
   "cell_type": "code",
   "execution_count": 4,
   "metadata": {},
   "outputs": [
    {
     "name": "stdout",
     "output_type": "stream",
     "text": [
      "19 is a Happy Number\n"
     ]
    }
   ],
   "source": [
    "# Driver method\n",
    "n = 19\n",
    "if (is_Happy_num(n) == 1) :\n",
    "\tprint (f\"{n} is a Happy Number\")\n",
    "else :\n",
    "\tprint (f\"{n} is not a happy Number\")\n"
   ]
  },
  {
   "cell_type": "code",
   "execution_count": 6,
   "metadata": {},
   "outputs": [
    {
     "name": "stdout",
     "output_type": "stream",
     "text": [
      "6 is not a happy Number\n"
     ]
    }
   ],
   "source": [
    "# Driver method\n",
    "n = 6\n",
    "if (is_Happy_num(n) == 1) :\n",
    "\tprint (f\"{n} is a Happy Number\")\n",
    "else :\n",
    "\tprint (f\"{n} is not a happy Number\")\n",
    "\n"
   ]
  },
  {
   "cell_type": "code",
   "execution_count": null,
   "metadata": {},
   "outputs": [],
   "source": [
    "## > 4.\tWrite a Python program to print all happy numbers between 1 and 100?\n"
   ]
  },
  {
   "cell_type": "code",
   "execution_count": null,
   "metadata": {},
   "outputs": [],
   "source": []
  },
  {
   "cell_type": "code",
   "execution_count": null,
   "metadata": {},
   "outputs": [],
   "source": [
    "## > 5.\tWrite a Python program to determine whether the given number is a Harshad Number?\n"
   ]
  },
  {
   "cell_type": "code",
   "execution_count": null,
   "metadata": {},
   "outputs": [],
   "source": []
  },
  {
   "cell_type": "code",
   "execution_count": null,
   "metadata": {},
   "outputs": [],
   "source": [
    "## > 6.\tWrite a Python program to print all pronic numbers between 1 and 100?\n"
   ]
  },
  {
   "cell_type": "code",
   "execution_count": null,
   "metadata": {},
   "outputs": [],
   "source": []
  }
 ],
 "metadata": {
  "kernelspec": {
   "display_name": "base",
   "language": "python",
   "name": "python3"
  },
  "language_info": {
   "codemirror_mode": {
    "name": "ipython",
    "version": 3
   },
   "file_extension": ".py",
   "mimetype": "text/x-python",
   "name": "python",
   "nbconvert_exporter": "python",
   "pygments_lexer": "ipython3",
   "version": "3.9.12"
  },
  "orig_nbformat": 4
 },
 "nbformat": 4,
 "nbformat_minor": 2
}
