{
 "cells": [
  {
   "cell_type": "markdown",
   "id": "0075e6b9",
   "metadata": {},
   "source": [
    "# 1. What are escape characters, and how do you use them?\n",
    "To insert characters that are illegal in a string, use an escape character. An escape character is a backslash \\ followed by the character you want to insert. An example of an illegal character is a double quote inside a string that is surrounded by double quotes:\n",
    "\n"
   ]
  },
  {
   "cell_type": "code",
   "execution_count": null,
   "id": "2609e6cc",
   "metadata": {},
   "outputs": [],
   "source": [
    "txt = \"We are the so-called \"Vikings\" from the north.\"\n",
    "txt"
   ]
  },
  {
   "cell_type": "code",
   "execution_count": 2,
   "id": "4d036e82",
   "metadata": {},
   "outputs": [
    {
     "data": {
      "text/plain": [
       "'We are the so-called \"Vikings\" from the north.'"
      ]
     },
     "execution_count": 2,
     "metadata": {},
     "output_type": "execute_result"
    }
   ],
   "source": [
    "txt = \"We are the so-called \\\"Vikings\\\" from the north.\"\n",
    "txt\n",
    "\n",
    "\n",
    "'We are the so-called \"Vikings\" from the north.'\n",
    "Other escape characters used in Python:\n",
    "\n",
    "' Single Quote\n",
    "\n",
    "\\ Backslash\n",
    "\n",
    "\\n New Line\n",
    "\n",
    "\\r Carriage Return\n",
    "\n",
    "\\t Tab\n",
    "\n",
    "\\b Backspace\n",
    "\n",
    "\\f Form Feed\n",
    "\n",
    "\\ooo Octal value\n",
    "\n",
    "\\xhh Hex value"
   ]
  },
  {
   "cell_type": "code",
   "execution_count": null,
   "id": "820dd7d1",
   "metadata": {},
   "outputs": [],
   "source": [
    "##2. What do the escape characters n and t stand for?\n",
    "\n",
    "n stands for new line and t stands for tab."
   ]
  },
  {
   "cell_type": "code",
   "execution_count": 4,
   "id": "a67df840",
   "metadata": {},
   "outputs": [
    {
     "name": "stdout",
     "output_type": "stream",
     "text": [
      "This will insert one \\ (backslash).\n"
     ]
    }
   ],
   "source": [
    "#3. What is the way to include backslash characters in a string?\n",
    "txt = \"This will insert one \\\\ (backslash).\"\n",
    "print(txt) "
   ]
  },
  {
   "cell_type": "code",
   "execution_count": 18,
   "id": "6f815518",
   "metadata": {},
   "outputs": [
    {
     "data": {
      "text/plain": [
       "\"Howl's Moving Castle\""
      ]
     },
     "execution_count": 18,
     "metadata": {},
     "output_type": "execute_result"
    }
   ],
   "source": [
    "#4. The string &quot;Howl&#39;s Moving Castle&quot; is a correct value. Why isn&#39;t the single quote character in the\n",
    "#word Howl&#39;s not escaped a problem?\n",
    "\n",
    "\"Howl's Moving Castle\""
   ]
  },
  {
   "cell_type": "markdown",
   "id": "516a15e9",
   "metadata": {},
   "source": [
    "# 5. How do you write a string of newlines if you don't want to use the n character?\n",
    "print(\"string1\")\n",
    "print(\"string 2\")\n",
    "print(\"string3\")"
   ]
  },
  {
   "cell_type": "code",
   "execution_count": 5,
   "id": "4629924d",
   "metadata": {},
   "outputs": [
    {
     "name": "stdout",
     "output_type": "stream",
     "text": [
      "string1 string 2 string3 "
     ]
    }
   ],
   "source": [
    "print(\"string1\",end=\" \")\n",
    "print(\"string 2\",end=\" \")\n",
    "print(\"string3\",end=\" \")"
   ]
  },
  {
   "cell_type": "code",
   "execution_count": null,
   "id": "16c8fa24",
   "metadata": {},
   "outputs": [],
   "source": [
    "6. What are the values of the given expressions?\n",
    "'Hello, world!'[1]\n",
    "'Hello, world!'[0:5]\n",
    "'Hello, world!'[:5]\n",
    "'Hello, world!'[3:]"
   ]
  },
  {
   "cell_type": "code",
   "execution_count": 6,
   "id": "d9b7a3fd",
   "metadata": {},
   "outputs": [
    {
     "data": {
      "text/plain": [
       "'e'"
      ]
     },
     "execution_count": 6,
     "metadata": {},
     "output_type": "execute_result"
    }
   ],
   "source": [
    "'Hello, world!'[1]   # extract the elemet of the string at index 1\n"
   ]
  },
  {
   "cell_type": "code",
   "execution_count": 7,
   "id": "403186b7",
   "metadata": {},
   "outputs": [
    {
     "data": {
      "text/plain": [
       "'lo, world!'"
      ]
     },
     "execution_count": 7,
     "metadata": {},
     "output_type": "execute_result"
    }
   ],
   "source": [
    "'Hello, world!'[0:5]   # extract string from index 0 to 5 excluding 5\n",
    "'Hello, world!'[:5]     # extract the element of the string from the initial index beginnig to 5 excluding 5\n",
    "'Hello, world!'[3:]     # exract the string from index 3 to the end"
   ]
  },
  {
   "cell_type": "code",
   "execution_count": null,
   "id": "91043fef",
   "metadata": {},
   "outputs": [],
   "source": [
    "7. What are the values of the following expressions?\n",
    "'Hello'.upper()\n",
    "'Hello'.upper().isupper()\n",
    "'Hello'.upper().lower()\n"
   ]
  },
  {
   "cell_type": "code",
   "execution_count": 8,
   "id": "16b55ddc",
   "metadata": {},
   "outputs": [
    {
     "data": {
      "text/plain": [
       "'hello'"
      ]
     },
     "execution_count": 8,
     "metadata": {},
     "output_type": "execute_result"
    }
   ],
   "source": [
    "'Hello'.upper()   # convert the string to uppaer case\n",
    "\n",
    "'Hello'.upper().isupper()  # is the output upper case or not\n",
    "\n",
    "'Hello'.upper().lower()    # is the otput lower case or not\n"
   ]
  },
  {
   "cell_type": "markdown",
   "id": "b90e6091",
   "metadata": {},
   "source": [
    "# 8. What are the values of the following expressions?\n",
    "'Remember, remember, the fifth of July.'.split()\n",
    "'-'.join('There can only one.'.split())"
   ]
  },
  {
   "cell_type": "code",
   "execution_count": 11,
   "id": "47f5ed35",
   "metadata": {},
   "outputs": [
    {
     "data": {
      "text/plain": [
       "['Remember,', 'remember,', 'the', 'fifth', 'of', 'July.']"
      ]
     },
     "execution_count": 11,
     "metadata": {},
     "output_type": "execute_result"
    }
   ],
   "source": [
    "'Remember, remember, the fifth of July.'.split()  # splits the string with respect to space"
   ]
  },
  {
   "cell_type": "code",
   "execution_count": 10,
   "id": "8b9f12fc",
   "metadata": {},
   "outputs": [
    {
     "data": {
      "text/plain": [
       "'There-can-only-one.'"
      ]
     },
     "execution_count": 10,
     "metadata": {},
     "output_type": "execute_result"
    }
   ],
   "source": [
    "'-'.join('There can only one.'.split())  # joins the words which are seperated by space with \"-\""
   ]
  },
  {
   "cell_type": "markdown",
   "id": "0191517b",
   "metadata": {},
   "source": [
    "# 9. What are the methods for right-justifying, left-justifying, and centering a string?\n",
    "String alignment is frequently used in many day-day applications. Python in its language offers several functions that helps to align string. Also, offers a way to add user specified padding instead of blank space."
   ]
  },
  {
   "cell_type": "code",
   "execution_count": 12,
   "id": "0035e56f",
   "metadata": {},
   "outputs": [
    {
     "name": "stdout",
     "output_type": "stream",
     "text": [
      "The original string is : \n",
      " FSDS \n",
      "\n",
      "The center aligned string is : \n",
      "                  FSDS                   \n",
      "\n",
      "Center aligned string with fillchr: \n",
      "##################FSDS##################\n"
     ]
    }
   ],
   "source": [
    "s = \"FSDS\"\n",
    "  \n",
    "# Printing the original string\n",
    "print (\"The original string is : \\n\", s, \"\\n\")\n",
    "  \n",
    "# Printing the center aligned string \n",
    "print (\"The center aligned string is : \")\n",
    "print (s.center(40), \"\\n\")\n",
    "  \n",
    "# Printing the center aligned \n",
    "# string with fillchr\n",
    "print (\"Center aligned string with fillchr: \")\n",
    "print (s.center(40, '#'))"
   ]
  },
  {
   "cell_type": "code",
   "execution_count": 13,
   "id": "3159f816",
   "metadata": {},
   "outputs": [
    {
     "name": "stdout",
     "output_type": "stream",
     "text": [
      "The original string is : \n",
      " FSDS \n",
      "\n",
      "The left aligned string is : \n",
      "FSDS------------------------------------\n"
     ]
    }
   ],
   "source": [
    "# Python3 code to demonstrate\n",
    "# the working of ljust()\n",
    "\n",
    "lstr = \"FSDS\"\n",
    "\n",
    "# Printing the original string\n",
    "print (\"The original string is : \\n\", lstr, \"\\n\")\n",
    "\n",
    "# Printing the left aligned\n",
    "# string with \"-\" padding\n",
    "print (\"The left aligned string is : \")\n",
    "print (lstr.ljust(40, '-'))"
   ]
  },
  {
   "cell_type": "code",
   "execution_count": 14,
   "id": "584f56fa",
   "metadata": {},
   "outputs": [
    {
     "name": "stdout",
     "output_type": "stream",
     "text": [
      "The original string is : \n",
      " FSDS \n",
      "\n",
      "The right aligned string is : \n",
      "------------------------------------FSDS\n"
     ]
    }
   ],
   "source": [
    "# Python3 code to demonstrate\n",
    "# the working of rjust()\n",
    "\n",
    "rstr = \"FSDS\"\n",
    "\n",
    "# Printing the original string\n",
    "print (\"The original string is : \\n\", rstr, \"\\n\")\n",
    "\n",
    "# Printing the right aligned string\n",
    "# with \"-\" padding\n",
    "print (\"The right aligned string is : \")\n",
    "print (rstr.rjust(40, '-'))"
   ]
  },
  {
   "cell_type": "code",
   "execution_count": 15,
   "id": "009f1656",
   "metadata": {},
   "outputs": [
    {
     "data": {
      "text/plain": [
       "'fsds'"
      ]
     },
     "execution_count": 15,
     "metadata": {},
     "output_type": "execute_result"
    }
   ],
   "source": [
    "#10. What is the best way to remove whitespace characters from the start or end?\n",
    "#The Python String strip() method is part of the built-in function available in python. The function will remove given characters from the start and end of the original string. This function is very helpful in removing the whitespaces at the start and end of the given string, as shown in the example.\n",
    "\n",
    "s = \"fsds     \"\n",
    "s.strip()\n",
    "'fsds'"
   ]
  },
  {
   "cell_type": "code",
   "execution_count": 16,
   "id": "934efa50",
   "metadata": {},
   "outputs": [
    {
     "data": {
      "text/plain": [
       "'fsds'"
      ]
     },
     "execution_count": 16,
     "metadata": {},
     "output_type": "execute_result"
    }
   ],
   "source": [
    "s = \"       fsds       \"\n",
    "s.strip()\n"
   ]
  },
  {
   "cell_type": "code",
   "execution_count": null,
   "id": "bab8e601",
   "metadata": {},
   "outputs": [],
   "source": [
    "s = \"   fsds\"\n",
    "s.strip()"
   ]
  }
 ],
 "metadata": {
  "kernelspec": {
   "display_name": "Python 3 (ipykernel)",
   "language": "python",
   "name": "python3"
  },
  "language_info": {
   "codemirror_mode": {
    "name": "ipython",
    "version": 3
   },
   "file_extension": ".py",
   "mimetype": "text/x-python",
   "name": "python",
   "nbconvert_exporter": "python",
   "pygments_lexer": "ipython3",
   "version": "3.9.12"
  }
 },
 "nbformat": 4,
 "nbformat_minor": 5
}
