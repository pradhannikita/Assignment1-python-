{
 "cells": [
  {
   "attachments": {},
   "cell_type": "markdown",
   "metadata": {},
   "source": [
    "# Assignment 07\n",
    "\n",
    "### 1. What is the name of the feature responsible for generating Regex objects?\n",
    "Ans: The re. compile() function returns Regex objects.\n",
    "\n",
    "Reference: https://www.programiz.com/python-programming/regex#:~:text=Python%20has%20a%20module%20named,(%22Search%20unsuccessful.%22)\n",
    " \n",
    "RegEx, or Regular Expression, is a sequence of characters that forms a search pattern. RegEx can be used to check if a string contains the specified search pattern. A Regular Expression (RegEx) is a sequence of characters that defines a search pattern. For example:"
   ]
  },
  {
   "attachments": {},
   "cell_type": "markdown",
   "metadata": {},
   "source": [
    "```python\n",
    "^a...s$\n",
    "```"
   ]
  },
  {
   "attachments": {},
   "cell_type": "markdown",
   "metadata": {},
   "source": [
    "The above code defines a RegEx pattern. The pattern is: any five letter string starting with 'a' and ending with 's'."
   ]
  },
  {
   "attachments": {},
   "cell_type": "markdown",
   "metadata": {},
   "source": [
    "### 2. Why do raw strings often appear in Regex objects?\n",
    "- Raw strings are used so that backslashes do not have to be escaped.\n",
    "- Python Raw Strings are string literals prefixed with a \"r\" or \"R\". For example, r\"Hello\" is a raw string. Raw Strings do not treat backslashes (\"\") as part of an escape sequence. It will be printed normally as a result. \n",
    "- Python raw string treats the backslash character (\\) as a literal character. Raw string is useful when a string needs to contain a backslash, such as for a regular expression or Windows directory path, and you don't want it to be treated as an escape character.\n",
    "- The normal string in print() function translates escape characters (such as \\n , \\t etc.) if any, while those in a raw string are not."
   ]
  },
  {
   "attachments": {},
   "cell_type": "markdown",
   "metadata": {},
   "source": [
    "### 3. What is the return value of the search() method?\n",
    "- The re.search() method takes two arguments: a pattern and a string. The method looks for the first location where the RegEx pattern produces a match with the string.\n",
    "- If the search is successful, re.search() returns a match object; if not, it returns None.\n",
    "\n",
    "```python\n",
    "match = re.search(pattern, str)\n",
    "```"
   ]
  },
  {
   "cell_type": "code",
   "execution_count": 5,
   "metadata": {},
   "outputs": [
    {
     "name": "stdout",
     "output_type": "stream",
     "text": [
      "pattern found inside the string\n"
     ]
    }
   ],
   "source": [
    "import re\n",
    "\n",
    "string = \"Python is fun\"\n",
    "\n",
    "# check if 'Python' is at the beginning\n",
    "match = re.search('\\APython', string)\n",
    "\n",
    "if match:\n",
    "  print(\"pattern found inside the string\")\n",
    "else:\n",
    "  print(\"pattern not found\")  "
   ]
  },
  {
   "attachments": {},
   "cell_type": "markdown",
   "metadata": {},
   "source": [
    "###  4. From a Match item, how do you get the actual strings that match the pattern?\n",
    "- Refrence: https://www.guru99.com/python-regular-expressions-complete-tutorial.html#:~:text=match()%20function%20of%20re,it%20returns%20the%20match%20object.\n",
    "- The “re” package provides several methods to actually perform queries on an input string. We will see the methods of re in Python:\n",
    "    - re.match()\n",
    "    - re.search()\n",
    "    - re.findall()\n",
    "- re.match() function of re in Python will search the regular expression pattern and return the first occurrence. The Python RegEx Match method checks for a match only at the beginning of the string. So, if a match is found in the first line, it returns the match object. But if a match is found in some other line, the Python RegEx Match function returns null."
   ]
  },
  {
   "cell_type": "code",
   "execution_count": null,
   "metadata": {},
   "outputs": [
    {
     "name": "stdout",
     "output_type": "stream",
     "text": [
      "one\n",
      "only\n",
      "on\n",
      "off\n"
     ]
    }
   ],
   "source": [
    "import re\n",
    "\n",
    "mylist=['one', 'only', 'on', 'off', 'two']\n",
    "\n",
    "for i in mylist:\n",
    "    z = re.match(\"(o\\w+)\", i)\n",
    "    if z:\n",
    "        print (z.group())"
   ]
  },
  {
   "attachments": {},
   "cell_type": "markdown",
   "metadata": {},
   "source": [
    "- re.search() function will search the regular expression pattern and return the first occurrence. Unlike Python re.match(), it will check all lines of the input string. The Python re.search() function returns a match object when the pattern is found and “null” if the pattern is not found\n",
    "\n",
    "- How to use search()?\n",
    "In order to use search() function, you need to import Python re module first and then execute the code. The Python re.search() function takes the “pattern” and “text” to scan from our main string"
   ]
  },
  {
   "cell_type": "code",
   "execution_count": 10,
   "metadata": {},
   "outputs": [
    {
     "name": "stdout",
     "output_type": "stream",
     "text": [
      "Looking for \"one\" in \"one and only\":  Found a Match\n",
      "Looking for \"only\" in \"one and only\":  Found a Match\n",
      "Looking for \"on\" in \"one and only\":  Found a Match\n",
      "Looking for \"off\" in \"one and only\":  No Match found\n",
      "Looking for \"two\" in \"one and only\":  No Match found\n"
     ]
    }
   ],
   "source": [
    "patterns =['one', 'only', 'on', 'off', 'two']\n",
    "text= 'one and only'\n",
    "for pattern in patterns:\n",
    "    print('Looking for \"%s\" in \"%s\": '% (pattern ,text), end = ' ')\n",
    "    if re.search(pattern,text):\n",
    "        print('Found a Match')\n",
    "    else:\n",
    "        print('No Match found')\n"
   ]
  },
  {
   "attachments": {},
   "cell_type": "markdown",
   "metadata": {},
   "source": [
    "- findall() module is used to search for “all” occurrences that match a given pattern. In contrast, search() module will only return the first occurrence that matches the specified pattern. findall() will iterate over all the lines of the file and will return all non-overlapping matches of pattern in a single step.\n",
    "- How to Use re.findall() in Python?\n",
    "Here we have a list of e-mail addresses, and we want all the e-mail addresses to be fetched out from the list, we use the method re.findall() in Python. It will find all the e-mail addresses from the list."
   ]
  },
  {
   "cell_type": "code",
   "execution_count": 14,
   "metadata": {},
   "outputs": [
    {
     "name": "stdout",
     "output_type": "stream",
     "text": [
      "abc99@google.com\n",
      "abc99@hotmail.com\n",
      "abc@yahoomail.com\n"
     ]
    }
   ],
   "source": [
    "abc = 'abc99@google.com, fullnames, abc99@hotmail.com, abc@yahoomail.com , names'\n",
    "emails = re.findall(r'[\\w\\.-]+@[\\w\\.-]+', abc)\n",
    "for email in emails:\n",
    "    print(email)"
   ]
  },
  {
   "attachments": {},
   "cell_type": "markdown",
   "metadata": {},
   "source": [
    "### 5. In the regex which created from the r'(\\d\\d\\d)-(\\d\\d\\d-\\d\\d\\d\\d)', what does group zero cover? Group 2? Group 1?\n",
    "Ans: Group 0 is the entire match, group 1 covers the first set of parentheses, and group 2 covers the second set of parentheses.\n",
    "\n",
    "### 6. In standard expression syntax, parentheses and intervals have distinct meanings. How can you tell a regex that you want it to fit real parentheses and periods?\n",
    "Ans: \n",
    "- Periods and parentheses can be escaped with a backslash: \\., \\(, and \\).\n",
    "- Parentheses are used for grouping in regular expressions, as in arithmetic. They can be used to concatenate regular expressions containing the alternation operator, ' | '. For example, ' @(samp|code)\\{[^}]+\\} ' matches both ' @code{foo} ' and ' @samp{bar} '.\n",
    "\n",
    "### 7. The findall() method returns a string list or a list of string tuples. What causes it to return one of the two options?\n",
    "Ans:\n",
    "-  If the regex has no groups, a list of strings is returned. \n",
    "- If the regex has groups, a list of tuples of strings is returned.\n",
    "- If the pattern is not found, re. findall() returns an empty list.\n",
    "\n",
    "### 8. In standard expressions, what does the | character mean?\n",
    "Reference: https://en.wikipedia.org/wiki/Vertical_bar\n",
    "- The | character signifies matching “either, or” between two groups.\n",
    "- The vertical bar, |, is a glyph with various uses in mathematics, computing, and typography. It has many names, often related to particular meanings: Sheffer stroke (in logic), pipe, bar, or (literally the word \"or\"), vbar, and others.\n",
    "- The vertical bar is used as a mathematical symbol in numerous ways: absolute value,cardinality, conditional probability, determinant, and many more.\n",
    "- In many programming languages, the vertical bar is used to designate the logic operation or, either bitwise or or logical or. \n",
    "- In regular expression syntax, the vertical bar again indicates logical or (alternation).\n",
    "\n",
    "### 9. In regular expressions, what does the character stand for?\n",
    "Ans:\n",
    "- Reference: https://www3.ntu.edu.sg/home/ehchua/programming/howto/Regexe.html#:~:text=Character%3A%20All%20characters%2C%20except%20those,regex%20%40%20matches%20%22%40%22%20.\n",
    "- Character: All characters, except those having special meaning in regex, matches themselves. E.g., the regex x matches substring \"x\"; regex 9 matches \"9\"; regex = matches \"=\"; and regex @ matches \"@\".\n",
    "- Special Regex Characters: These characters have special meaning in regex (to be discussed below): ., +, *, ?, ^, $, (, ), [, ], {, }, |, \\.\n",
    "- Escape Sequences (\\char): To match a character having special meaning in regex, you need to use a escape sequence prefix with a backslash (\\). E.g., \\. matches \".\"; regex \\+ matches \"+\"; and regex \\( matches \"(\". You also need to use regex \\\\ to match \"\\\" (back-slash). Regex recognizes common escape sequences such as \\n for newline, \\t for tab, \\r for carriage-return, \\nnn for a up to 3-digit octal number, \\xhh for a two-digit hex code, \\uhhhh for a 4-digit Unicode, \\uhhhhhhhh for a 8-digit Unicode.\n",
    "- A Sequence of Characters (or String): Strings can be matched via combining a sequence of characters (called sub-expressions). E.g., the regex Saturday matches \"Saturday\". The matching, by default, is case-sensitive, but can be set to case-insensitive via modifier.\n",
    "- OR Operator (|): E.g., the regex four|4 accepts strings \"four\" or \"4\".\n",
    "\n",
    "### 10.In regular expressions, what is the difference between the + and * characters?\n",
    "Ans:\n",
    "- They are quantifiers.\n",
    "    - '+' means 1 or many (at least one occurrence for the match to succeed)\n",
    "    - '*' means 0 or many (the match succeeds regardless of the presence of the search string)\n",
    "\n",
    "### 11. What is the difference between {4} and {4,5} in regular expression?\n",
    "Ans: \n",
    "- {4} means that the preceding character is to be repeated 4 times. {4,5} means that the preceding character is repeated atleast min 4 & atmost max 5 times. \n",
    "- Reference: https://www.geeksforgeeks.org/write-regular-expressions/\n",
    "- The curly braces {…}: It tells the computer to repeat the preceding character (or set of characters) for as many times as the value inside this bracket. Example : {2} means that the preceding character is to be repeated 2  times, {min,} means the preceding character is matches min or  more  times. {min,max} means that the preceding character is repeated atleast min & atmost max times.\n",
    "\n",
    "### 12. What do you mean by the \\d, \\w, and \\s shorthand character classes signify in regular expressions? 13. What do means by \\D, \\W, and \\S shorthand character classes signify in regular expressions?\n",
    "Ans:\n",
    "- Reference: https://www.geeksforgeeks.org/write-regular-expressions/\n",
    "- A character class matches any one of a set of characters. It is used to match the most basic element of a language like a letter, a digit, space, a symbol etc. \n",
    "- /s : matches any whitespace characters such as space and tab \n",
    "- /S : matches any non-whitespace characters \n",
    "- /d : matches any digit character \n",
    "- /D : matches any non-digit characters \n",
    "- /w : matches any word character (basically alpha-numeric) \n",
    "- /W : matches any non-word character \n",
    "- /b : matches any word boundary (this would include spaces, dashes, commas, semi-colons, etc) \n",
    "- [set_of_characters] – Matches any single character in set_of_characters. By default, the match is case-sensitive.\n",
    "\n",
    "### 14. What is the difference between .*? and .* regular expression?\n",
    "Ans:\n",
    "- Reference: https://stackoverflow.com/questions/3075130/what-is-the-difference-between-and-regular-expressions#:~:text=*%3F%20is%20non%2Dgreedy.,*%3F%20%2C%20.\n",
    "- Repetition in regex by default is greedy: they try to match as many reps as possible, and when this doesn't work and they have to backtrack, they try to match one fewer rep at a time, until a match of the whole pattern is found. As a result, when a match finally happens, a greedy repetition would match as many reps as possible.\n",
    "- The ? as a repetition quantifier changes this behavior into non-greedy, also called reluctant (in e.g. Java) (and sometimes \"lazy\"). In contrast, this repetition will first try to match as few reps as possible, and when this doesn't work and they have to backtrack, they start matching one more rept a time. As a result, when a match finally happens, a reluctant repetition would match as few reps as possible.\n",
    "\n",
    "### 15. What is the syntax for matching both numbers and lowercase letters with a character class?\n",
    "Ans: Either [0-9a-z] or [a-z0-9]\n",
    "- Reference: https://www.realcode4you.com/post/python-interview-questions-and-tutorial-4-get-support-in-python\n",
    "\n",
    "### 16. What is the procedure for making a normal expression in regax case insensitive?\n",
    "Ans:\n",
    "- Passing re.I or re.IGNORECASE as the second argument to re.compile() will make the matching case insensitive.\n",
    "\n",
    "### 17. What does the . character normally match? What does it match if re.DOTALL is passed as 2nd argument in re.compile()?\n",
    "Ans: \n",
    "- The . character normally matches any character except the newline character. If re.DOTALL is passed as the second argument to re.compile(), then the dot will also match newline characters."
   ]
  },
  {
   "attachments": {},
   "cell_type": "markdown",
   "metadata": {},
   "source": [
    "### 18. If numReg = re.compile(r'\\d+'), what will numRegex.sub('X', '11 drummers, 10 pipers, five rings, 4 hen') return?\n",
    "Ans:\n",
    "- 'X drummers, X pipers, five rings, X hens'"
   ]
  },
  {
   "cell_type": "code",
   "execution_count": 1,
   "metadata": {},
   "outputs": [
    {
     "data": {
      "text/plain": [
       "'X drummers, X pipers, five rings, X hen'"
      ]
     },
     "execution_count": 1,
     "metadata": {},
     "output_type": "execute_result"
    }
   ],
   "source": [
    "import re\n",
    "numReg = re.compile(r'\\d+')\n",
    "numReg.sub('X', '11 drummers, 10 pipers, five rings, 4 hen')\n"
   ]
  },
  {
   "attachments": {},
   "cell_type": "markdown",
   "metadata": {},
   "source": [
    "### 19. What does passing re.VERBOSE as the 2nd argument to re.compile() allow to do?\n",
    "Ans:\n",
    "- The re.VERBOSE argument allows you to add whitespace and comments to the string passed to re.compile()\n",
    "\n",
    "### 20. How would you write a regex that match a number with comma for every three digits? It must match the given following:\n",
    "    - '42'\n",
    "    - '1,234'\n",
    "    - '6,368,745'\n",
    "### but not the following:\n",
    "    - '12,34,567' (which has only two digits between the commas)\n",
    "    - '1234' (which lacks commas)\n",
    "\n",
    "Ans: re.compile(r'^\\d{1,3}(,{3})*$') will create this regex, but other regex strings can produce a similar regular expression."
   ]
  },
  {
   "cell_type": "code",
   "execution_count": 2,
   "metadata": {},
   "outputs": [
    {
     "data": {
      "text/plain": [
       "re.compile(r'^\\d{1,3}(,{3})*$', re.UNICODE)"
      ]
     },
     "execution_count": 2,
     "metadata": {},
     "output_type": "execute_result"
    }
   ],
   "source": [
    "re.compile(r'^\\d{1,3}(,{3})*$')"
   ]
  },
  {
   "attachments": {},
   "cell_type": "markdown",
   "metadata": {},
   "source": [
    "### 21. How would you write a regex that matches the full name of someone whose last name is Watanabe? You can assume that the first name that comes before it will always be one word that begins with a capital letter. The regex must match the following:\n",
    "- 'Haruto Watanabe'\n",
    "- 'Alice Watanabe'\n",
    "- 'RoboCop Watanabe'\n",
    "### but not the following:\n",
    "- 'haruto Watanabe' (where the first name is not capitalized)\n",
    "- 'Mr. Watanabe' (where the preceding word has a nonletter character)\n",
    "- 'Watanabe' (which has no first name)\n",
    "- 'Haruto watanabe' (where Watanabe is not capitalized)\n"
   ]
  },
  {
   "cell_type": "code",
   "execution_count": 3,
   "metadata": {},
   "outputs": [
    {
     "data": {
      "text/plain": [
       "re.compile(r'[A-Z][a-z]*\\sWatanabe', re.UNICODE)"
      ]
     },
     "execution_count": 3,
     "metadata": {},
     "output_type": "execute_result"
    }
   ],
   "source": [
    "re.compile(r'[A-Z][a-z]*\\sWatanabe')"
   ]
  },
  {
   "attachments": {},
   "cell_type": "markdown",
   "metadata": {},
   "source": [
    "### 22. How would you write a regex that matches a sentence where the first word is either Alice, Bob, or Carol; the second word is either eats, pets, or throws; the third word is apples, cats, or baseballs; and the sentence ends with a period? This regex should be case-insensitive. It must match the following:\n",
    "- 'Alice eats apples.'\n",
    "- 'Bob pets cats.'\n",
    "- 'Carol throws baseballs.'\n",
    "- 'Alice throws Apples.'\n",
    "- 'BOB EATS CATS.'\n",
    "### but not the following:\n",
    "- 'RoboCop eats apples.'\n",
    "- 'ALICE THROWS FOOTBALLS.'\n",
    "- 'Carol eats 7 cats.'\n"
   ]
  },
  {
   "cell_type": "code",
   "execution_count": 4,
   "metadata": {},
   "outputs": [
    {
     "data": {
      "text/plain": [
       "re.compile(r'(Alice|Bob|Carol)\\s(eats|pets|throws)\\s(apples|cats|baseballs)\\.',\n",
       "           re.IGNORECASE|re.UNICODE)"
      ]
     },
     "execution_count": 4,
     "metadata": {},
     "output_type": "execute_result"
    }
   ],
   "source": [
    "re.compile(r'(Alice|Bob|Carol)\\s(eats|pets|throws)\\s(apples|cats|baseballs)\\.', re.IGNORECASE)"
   ]
  },
  {
   "cell_type": "code",
   "execution_count": null,
   "metadata": {},
   "outputs": [],
   "source": []
  },
  {
   "cell_type": "code",
   "execution_count": null,
   "metadata": {},
   "outputs": [],
   "source": []
  },
  {
   "cell_type": "code",
   "execution_count": null,
   "metadata": {},
   "outputs": [],
   "source": []
  }
 ],
 "metadata": {
  "kernelspec": {
   "display_name": "base",
   "language": "python",
   "name": "python3"
  },
  "language_info": {
   "codemirror_mode": {
    "name": "ipython",
    "version": 3
   },
   "file_extension": ".py",
   "mimetype": "text/x-python",
   "name": "python",
   "nbconvert_exporter": "python",
   "pygments_lexer": "ipython3",
   "version": "3.9.12"
  },
  "orig_nbformat": 4,
  "vscode": {
   "interpreter": {
    "hash": "c42d99d755d00efaf066b964ceed011a4027ae5af520c8ef8190b9acee3a6094"
   }
  }
 },
 "nbformat": 4,
 "nbformat_minor": 2
}
