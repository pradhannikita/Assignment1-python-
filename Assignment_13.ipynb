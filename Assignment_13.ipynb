{
 "cells": [
  {
   "attachments": {},
   "cell_type": "markdown",
   "metadata": {},
   "source": [
    "# 1. What advantages do Excel spreadsheets have over CSV spreadsheets?\n",
    "- https://toggl.com/track/difference-between-csv-xls/#:~:text=While%20Excel%20(XLS%20and%20XLSX,with%20the%20CSV%20file%20format.\n",
    "- While Excel (XLS and XLSX) file formats are better for storing more complex data, CSV files are supported by nearly all data upload interfaces. If you are planning to move your data between platforms, export and import it from one interface to another, you might be better off with the CSV file format.\n",
    "- https://www.geeksforgeeks.org/difference-between-csv-and-excel/\n",
    "- CSV: CSV refers to Comma-Separated Values. It holds plain text as a series of values (cells) separated by commas (, ) in a series of lines (rows). CSV file can actually open in a text editor and read it. There are lots of applications for reading CSV files, and many languages provide built-in functions that simplify reading/writing CSV format. These files are majority used by professionals in data analysis or visualizations.\n",
    "- Excel: Microsoft Excel is used to displays the data in horizontal and vertical rows. The data are usually stored in the cells. We have an option of formulas in Excel that can be used for data and its place of storage. You can even add any charts, graphics, etc. to make it more presentable.\n",
    "\n"
   ]
  },
  {
   "attachments": {},
   "cell_type": "markdown",
   "metadata": {},
   "source": [
    "# 2. What do you pass to csv.reader() and csv.writer() to create reader and writer objects?\n",
    "- CSV (Comma Separated Values) is a simple file format used to store tabular data, such as a spreadsheet or database. A CSV file stores tabular data (numbers and text) in plain text. Each line of the file is a data record. Each record consists of one or more fields, separated by commas. The use of the comma as a field separator is the source of the name for this file format.\n",
    "- For working CSV files in Python, there is an inbuilt module called csv.\n",
    "\n",
    "\n",
    "\n",
    "```"
   ]
  },
  {
   "cell_type": "code",
   "execution_count": null,
   "metadata": {},
   "outputs": [],
   "source": [
    "# importing csv module\n",
    "import csv\n",
    " \n",
    "# csv file name\n",
    "filename = \"path_for_file.csv\"\n",
    " \n",
    "# initializing the titles and rows list\n",
    "fields = []\n",
    "rows = []\n",
    " \n",
    "# reading csv file\n",
    "with open(filename, 'r') as csvfile:\n",
    "    # creating a csv reader object\n",
    "    csvreader = csv.reader(csvfile) \n",
    "    # extracting field names through first row\n",
    "    fields = next(csvreader)\n",
    " \n",
    "    # extracting each data row one by one\n",
    "    for row in csvreader:\n",
    "        rows.append(row)\n",
    " \n",
    "    # get total number of rows\n",
    "    print(\"Total no. of rows: %d\"%(csvreader.line_num))\n",
    " \n",
    "# printing the field names\n",
    "print('Field names are:' + ', '.join(field for field in fields))\n",
    " \n",
    "# printing first 5 rows\n",
    "print('\\nFirst 5 rows are:\\n')\n",
    "for row in rows[:5]:\n",
    "    # parsing each column of a row\n",
    "    for col in row:\n",
    "        print(\"%10s\"%col,end=\" \"),\n",
    "    print('\\n')"
   ]
  },
  {
   "cell_type": "code",
   "execution_count": null,
   "metadata": {},
   "outputs": [],
   "source": [
    "# importing the csv module\n",
    "import csv\n",
    " \n",
    "# field names\n",
    "fields = ['Name', 'Branch', 'Year', 'CGPA']\n",
    " \n",
    "# data rows of csv file\n",
    "rows = [ ['Nikhil', 'COE', '2', '9.0'],\n",
    "        ['Sanchit', 'COE', '2', '9.1'],\n",
    "        ['Aditya', 'IT', '2', '9.3'],\n",
    "        ['Sagar', 'SE', '1', '9.5'],\n",
    "        ['Prateek', 'MCE', '3', '7.8'],\n",
    "        ['Sahil', 'EP', '2', '9.1']]\n",
    " \n",
    "# name of csv file\n",
    "filename = \"Path_of_file.csv\"\n",
    " \n",
    "# writing to csv file\n",
    "with open(filename, 'w') as csvfile:\n",
    "    # creating a csv writer object\n",
    "    csvwriter = csv.writer(csvfile)\n",
    "     \n",
    "    # writing the fields\n",
    "    csvwriter.writerow(fields)\n",
    "     \n",
    "    # writing the data rows\n",
    "    csvwriter.writerows(rows)"
   ]
  },
  {
   "attachments": {},
   "cell_type": "markdown",
   "metadata": {},
   "source": [
    "# 3. What modes do File objects for reader and writer objects need to be opened in?\n",
    "- **FILES HANDLING IN PYTHON** https://ncert.nic.in/textbook/pdf/lecs102.pdf\n",
    "- There are many modes for opening a file: \n",
    "1. r - open a file in read mode. \n",
    "2. w - opens or create a text file in write mode. \n",
    "3. a - opens a file in append mode.\n",
    "\n",
    "- In Python, we can also open a file using with clause. The syntax of with clause is:\n",
    "```python\n",
    "with open (file_name, access_mode) as file_object:\n",
    " ```\n",
    "- The advantage of using with clause is that any file that is opened using this clause is closed automatically,  once the control comes outside the with clause. In case the user forgets to close the file explicitly or if an exception occurs, the file is closed automatically. Also, it provides a simpler syntax.\n",
    "```python \n",
    "with open(“myfile.txt”,”r+”) as myObject:\n",
    " content = myObject.read()\n",
    "```\n",
    "- Here, we don’t have to close the file explicitly using close() statement. Python will automatically close the file"
   ]
  },
  {
   "attachments": {},
   "cell_type": "markdown",
   "metadata": {},
   "source": [
    "# 4. What method takes a list argument and writes it to a CSV file?\n",
    "- https://www.scaler.com/topics/list-to-csv-python/\n",
    "- We can convert a list to CSV in python easily by importing an in-built CSV module in python. In this method, we use file handling in python to read the data of a list and then write it into a CSV file.\n",
    "```python\n",
    "import csv\n",
    "  \n",
    "fields = ['Employee', 'ID', 'Salary'] \n",
    "    \n",
    "rows = [ ['XYZ', '011', '2000'], \n",
    "         ['ABC', '012', '8000'],\n",
    "         ['PQR', '351', '5000'],\n",
    "         ['EFG', '146', '10000'] ] \n",
    "  \n",
    "with open('EmployeeData.csv', 'w') as f:\n",
    "      \n",
    "    csv_writer = csv.writer(f)\n",
    "    csv_writer.writerow(fields)\n",
    "    csv_writer.writerows(rows)\n",
    "```"
   ]
  },
  {
   "attachments": {},
   "cell_type": "markdown",
   "metadata": {},
   "source": [
    "# 5. What do the keyword arguments delimiter and line terminator do?\n",
    "- The delimiter is the character that appears between cells on a row. By default, the delimiter for a CSV file is a comma. The line terminator is the character that comes at the end of a row. By default, the line terminator is a newline."
   ]
  },
  {
   "attachments": {},
   "cell_type": "markdown",
   "metadata": {},
   "source": [
    "# 6. What function takes a string of JSON data and returns a Python data structure?\n",
    "- **WORKING WITH JSON**: https://www.geeksforgeeks.org/working-with-json-data-in-python/\n",
    "- Deserialization is the opposite of Serialization, i.e. conversion of JSON objects into their respective Python objects. The load() method is used for it. If you have used JSON data from another program or obtained it as a string format of JSON, then it can easily be deserialized with load(), which is usually used to load from a string, otherwise, the root object is in a list or dict. "
   ]
  },
  {
   "attachments": {},
   "cell_type": "markdown",
   "metadata": {},
   "source": [
    "# 7. What function takes a Python data structure and returns a string of JSON data?\n",
    "- The process of encoding JSON is usually called serialization. This term refers to the transformation of data into a series of bytes (hence serial) to be stored or transmitted across a network. To handle the data flow in a file, the JSON library in Python uses dump() function to convert the Python objects into their respective JSON object, so it makes it easy to write data to files."
   ]
  },
  {
   "cell_type": "code",
   "execution_count": null,
   "metadata": {},
   "outputs": [],
   "source": []
  }
 ],
 "metadata": {
  "kernelspec": {
   "display_name": "base",
   "language": "python",
   "name": "python3"
  },
  "language_info": {
   "name": "python",
   "version": "3.9.12"
  },
  "orig_nbformat": 4,
  "vscode": {
   "interpreter": {
    "hash": "c42d99d755d00efaf066b964ceed011a4027ae5af520c8ef8190b9acee3a6094"
   }
  }
 },
 "nbformat": 4,
 "nbformat_minor": 2
}
