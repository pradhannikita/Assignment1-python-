{
 "cells": [
  {
   "cell_type": "markdown",
   "id": "86220d96",
   "metadata": {},
   "source": [
    "# Programming Assignment 6"
   ]
  },
  {
   "cell_type": "markdown",
   "id": "f5bc10e9",
   "metadata": {},
   "source": [
    "1.\tWrite a Python Program to Display Fibonacci Sequence Using Recursion?\n",
    "2.\tWrite a Python Program to Find Factorial of Number Using Recursion?\n",
    "3.\tWrite a Python Program to calculate your Body Mass Index?\n",
    "4.\tWrite a Python Program to calculate the natural logarithm of any number?\n",
    "5.\tWrite a Python Program for cube sum of first n natural numbers?\n"
   ]
  },
  {
   "cell_type": "markdown",
   "id": "a036ebf5",
   "metadata": {},
   "source": [
    "# 1.\tWrite a Python Program to Display Fibonacci Sequence Using Recursion?"
   ]
  },
  {
   "cell_type": "code",
   "execution_count": 2,
   "id": "12cea605",
   "metadata": {},
   "outputs": [
    {
     "name": "stdout",
     "output_type": "stream",
     "text": [
      "Enter the nterms: 5\n",
      "Fibonacci sequence:\n",
      "0\n",
      "1\n",
      "1\n",
      "2\n",
      "3\n"
     ]
    }
   ],
   "source": [
    "# Python program to display the Fibonacci sequence\n",
    "\n",
    "def recur_fibo(n):\n",
    "    if n <= 1:                                    # to return 0 1\n",
    "        return n\n",
    "    else:                                         # fibonacci\n",
    "        return(recur_fibo(n-1) + recur_fibo(n-2))\n",
    "\n",
    "nterms = int(input(\"Enter the nterms: \"))\n",
    "\n",
    "# check if the number of terms is valid\n",
    "if nterms <= 0:\n",
    "    print(\"Plese enter a positive integer\")\n",
    "else:\n",
    "    print(\"Fibonacci sequence:\")\n",
    "    for i in range(nterms):\n",
    "        print(recur_fibo(i))                    \n"
   ]
  },
  {
   "cell_type": "markdown",
   "id": "eeea5c6c",
   "metadata": {},
   "source": [
    "# 2.\tWrite a Python Program to Find Factorial of Number Using Recursion?"
   ]
  },
  {
   "cell_type": "code",
   "execution_count": 4,
   "id": "fda54e64",
   "metadata": {},
   "outputs": [
    {
     "name": "stdout",
     "output_type": "stream",
     "text": [
      "Enter the number to calculate factorial of it: 5\n",
      "The factorial of 5 is 120\n"
     ]
    }
   ],
   "source": [
    "# Factorial of a number using recursion\n",
    "\n",
    "def recur_factorial(n):\n",
    "    if n == 1:                    # fac of 1 is 1\n",
    "        return n\n",
    "    else:\n",
    "        return n*recur_factorial(n-1)  \n",
    "\n",
    "num = int(input(\"Enter the number to calculate factorial of it: \"))\n",
    "\n",
    "# check if the number is negative\n",
    "if num < 0:\n",
    "    print(\"Sorry, factorial does not exist for negative numbers\")\n",
    "elif num == 0:\n",
    "    print(\"The factorial of 0 is 1\")\n",
    "else:\n",
    "    print(\"The factorial of\", num, \"is\", recur_factorial(num))\n"
   ]
  },
  {
   "cell_type": "markdown",
   "id": "eb6678c0",
   "metadata": {},
   "source": [
    "# 3.\tWrite a Python Program to calculate your Body Mass Index?\n",
    "The Body Mass Index (BMI) or Quetelet index is a value derived from the mass (weight) and height of an individual, male or female. The BMI is defined as the body mass divided by the square of the body height and is universally expressed in units of kg/m2, resulting from the mass in kilograms and height in meters."
   ]
  },
  {
   "cell_type": "code",
   "execution_count": 4,
   "id": "4f960466",
   "metadata": {},
   "outputs": [
    {
     "name": "stdout",
     "output_type": "stream",
     "text": [
      "Enter the height in meters: 1.54\n",
      "Enter the weight in Kgs: 60\n",
      "The BMI is 25.2993759487266 so Overweight\n"
     ]
    }
   ],
   "source": [
    "def BMI(height, weight):\n",
    "    bmi = weight/(height**2)\n",
    "    return bmi\n",
    " \n",
    "# Driver code\n",
    "height = float(input(\"Enter the height in meters: \"))\n",
    "weight = float(input(\"Enter the weight in Kgs: \"))\n",
    " \n",
    "\n",
    "bmi = BMI(height, weight)# calling the BMI function\n",
    "\n",
    "print(\"The BMI is\", bmi, \"so \", end='')\n",
    "# Conditions to find out BMI category\n",
    "if (bmi < 18.5):\n",
    "    print(\"Underweight\")\n",
    "elif ( bmi >= 18.5 and bmi < 24.9):\n",
    "    print(\"Healthy\")\n",
    "elif ( bmi >= 24.9 and bmi < 30):\n",
    "    print(\"Overweight\")\n",
    "elif ( bmi >=30):\n",
    "    print(\"Suffering from Obesity\")"
   ]
  },
  {
   "cell_type": "markdown",
   "id": "9cc1ac19",
   "metadata": {},
   "source": [
    "# 4.\tWrite a Python Program to calculate the natural logarithm of any number?\n",
    "* Syntax : math.log(a,Base)\n",
    "* Parameters : \n",
    "     * a : The numeric value\n",
    "     * Base :  Base to which the logarithm has to be computed.\n",
    "* Return Value : Returns natural log if 1 argument is passed and log with specified base if 2 arguments are passed.\n",
    "* Exceptions : Raises ValueError if a negative no. is passed as argument."
   ]
  },
  {
   "cell_type": "code",
   "execution_count": 7,
   "id": "a7895094",
   "metadata": {},
   "outputs": [
    {
     "name": "stdout",
     "output_type": "stream",
     "text": [
      "Enter the number: 14\n",
      "The Natural Loarithm of  14  is  2.6390573296152584\n"
     ]
    }
   ],
   "source": [
    "num = int(input(\"Enter the number: \"))\n",
    "if num<0:\n",
    "    print(\"Enter the positive number.\")\n",
    "else:\n",
    "    import math\n",
    "    print(\"The Natural Loarithm of \" , num , \" is \" , math.log(num))"
   ]
  },
  {
   "cell_type": "markdown",
   "id": "6c8141f8",
   "metadata": {},
   "source": [
    "# 5.\tWrite a Python Program for cube sum of first n natural numbers?"
   ]
  },
  {
   "cell_type": "code",
   "execution_count": 12,
   "id": "ef305917",
   "metadata": {},
   "outputs": [
    {
     "name": "stdout",
     "output_type": "stream",
     "text": [
      "Enter the number of natural numbers to find the cube: 3\n",
      "0\n",
      "1\n",
      "8\n",
      "The sum of cube of first 3 natural number is  9\n"
     ]
    }
   ],
   "source": [
    "num = int(input(\"Enter the number of natural numbers to find the cube: \"))\n",
    "\n",
    "if num<0:\n",
    "    print(\"print the positive number.\")\n",
    "else:\n",
    "    summ = 0\n",
    "    for i in range(num):\n",
    "        print(i**3)\n",
    "        summ = summ + i**3\n",
    "    print(\"The sum of cube of first\",num, \"natural number is \",summ)"
   ]
  },
  {
   "cell_type": "code",
   "execution_count": null,
   "id": "32b41728",
   "metadata": {},
   "outputs": [],
   "source": []
  }
 ],
 "metadata": {
  "kernelspec": {
   "display_name": "Python 3 (ipykernel)",
   "language": "python",
   "name": "python3"
  },
  "language_info": {
   "codemirror_mode": {
    "name": "ipython",
    "version": 3
   },
   "file_extension": ".py",
   "mimetype": "text/x-python",
   "name": "python",
   "nbconvert_exporter": "python",
   "pygments_lexer": "ipython3",
   "version": "3.9.7"
  }
 },
 "nbformat": 4,
 "nbformat_minor": 5
}
