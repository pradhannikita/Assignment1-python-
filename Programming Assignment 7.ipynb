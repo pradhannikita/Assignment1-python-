{
 "cells": [
  {
   "cell_type": "markdown",
   "id": "af041b66",
   "metadata": {},
   "source": [
    "# Programming Assignment 7"
   ]
  },
  {
   "cell_type": "markdown",
   "id": "6b574f81",
   "metadata": {},
   "source": [
    "1.\tWrite a Python Program to find sum of array?\n",
    "2.\tWrite a Python Program to find largest element in an array?\n",
    "3.\tWrite a Python Program for array rotation?\n",
    "4.\tWrite a Python Program to Split the array and add the first part to the end?\n",
    "5.\tWrite a Python Program to check if given array is Monotonic?\n"
   ]
  },
  {
   "cell_type": "markdown",
   "id": "ce827d88",
   "metadata": {},
   "source": [
    "# 1.\tWrite a Python Program to find sum of array?"
   ]
  },
  {
   "cell_type": "code",
   "execution_count": 9,
   "id": "df124cba",
   "metadata": {},
   "outputs": [],
   "source": [
    "def sum_array(*args):\n",
    "    summ = 0\n",
    "    for i in args:\n",
    "        if type(i) == int:\n",
    "            summ = summ + i\n",
    "    print(summ)"
   ]
  },
  {
   "cell_type": "code",
   "execution_count": 10,
   "id": "ebf55a9c",
   "metadata": {},
   "outputs": [
    {
     "name": "stdout",
     "output_type": "stream",
     "text": [
      "15\n"
     ]
    }
   ],
   "source": [
    "sum_array(1,2,3,4,5)"
   ]
  },
  {
   "cell_type": "code",
   "execution_count": 14,
   "id": "16e5e2af",
   "metadata": {},
   "outputs": [
    {
     "name": "stdout",
     "output_type": "stream",
     "text": [
      "15\n"
     ]
    }
   ],
   "source": [
    "sum_array(1,\"one\", 2,3,4,5,\"sum\")"
   ]
  },
  {
   "cell_type": "markdown",
   "id": "8e21b33f",
   "metadata": {},
   "source": [
    "# 2.\tWrite a Python Program to find largest element in an array?"
   ]
  },
  {
   "cell_type": "code",
   "execution_count": 15,
   "id": "d50d9ffe",
   "metadata": {},
   "outputs": [],
   "source": [
    "def find_largest(*args):\n",
    "    largest = 0\n",
    "    for i in args:\n",
    "        if type(i)==int:\n",
    "            if i > largest:\n",
    "                largest = i\n",
    "    print(\"The largest element of array is {}\".format(largest))"
   ]
  },
  {
   "cell_type": "code",
   "execution_count": 16,
   "id": "141e1f34",
   "metadata": {},
   "outputs": [
    {
     "name": "stdout",
     "output_type": "stream",
     "text": [
      "The largest element of array is 5\n"
     ]
    }
   ],
   "source": [
    "find_largest(1,2,3,4,5,\"6\")"
   ]
  },
  {
   "cell_type": "code",
   "execution_count": 17,
   "id": "3ff87f37",
   "metadata": {},
   "outputs": [
    {
     "name": "stdout",
     "output_type": "stream",
     "text": [
      "The largest element of array is 99\n"
     ]
    }
   ],
   "source": [
    "find_largest(5,88,3,6,4,0,99,\"string\")"
   ]
  },
  {
   "cell_type": "markdown",
   "id": "134f25e5",
   "metadata": {},
   "source": [
    "# 3.\tWrite a Python Program for array rotation?"
   ]
  },
  {
   "cell_type": "code",
   "execution_count": 66,
   "id": "4ce48ece",
   "metadata": {},
   "outputs": [
    {
     "name": "stdout",
     "output_type": "stream",
     "text": [
      "Array after left rotation is:  [3, 4, 5, 6, 7, 1, 2]\n"
     ]
    }
   ],
   "source": [
    "def rotateArray(a,d):\n",
    "    temp = []\n",
    "    n=len(a)\n",
    "    for i in range(d,n):\n",
    "        temp.append(a[i])\n",
    "    i = 0\n",
    "    for i in range (0,d):\n",
    "        temp.append(a[i])\n",
    "    a=temp.copy()\n",
    "    return a\n",
    " \n"
   ]
  },
  {
   "cell_type": "code",
   "execution_count": 67,
   "id": "0119d2dd",
   "metadata": {},
   "outputs": [
    {
     "data": {
      "text/plain": [
       "[3, 4, 5, 6, 7, 1, 2]"
      ]
     },
     "execution_count": 67,
     "metadata": {},
     "output_type": "execute_result"
    }
   ],
   "source": [
    "rotateArray([1, 2, 3, 4, 5, 6, 7],2)"
   ]
  },
  {
   "cell_type": "markdown",
   "id": "302cd1f7",
   "metadata": {},
   "source": [
    "# 4.\tWrite a Python Program to Split the array and add the first part to the end?"
   ]
  },
  {
   "cell_type": "code",
   "execution_count": 98,
   "id": "3379f85a",
   "metadata": {},
   "outputs": [],
   "source": [
    "def array_split(arr):\n",
    "    n = len(arr)\n",
    "    print(\"The length of array is: \",n)\n",
    "    half = int(n/2)\n",
    "    print(\"Split at index: \",half)\n",
    "    first_half=[]\n",
    "    second_half=[]\n",
    "    final=[]\n",
    "    \n",
    "    for i in range(half+1):\n",
    "        first_half.append(arr[i])\n",
    "    print(\"First Half is: \",first_half)\n",
    "    \n",
    "    for i in range(half+1,n):\n",
    "        second_half.append(arr[i])\n",
    "    print(\"Second Half is: \",second_half)\n",
    "    \n",
    "    print(\"The Final Array is: \", second_half+first_half)\n",
    "        "
   ]
  },
  {
   "cell_type": "code",
   "execution_count": 99,
   "id": "f85d5fbf",
   "metadata": {},
   "outputs": [
    {
     "name": "stdout",
     "output_type": "stream",
     "text": [
      "The length of array is:  9\n",
      "Split at index:  4\n",
      "First Half is:  [1, 2, 3, 4, 5]\n",
      "Second Half is:  [6, 7, 8, 9]\n",
      "The Final Array is:  [6, 7, 8, 9, 1, 2, 3, 4, 5]\n"
     ]
    }
   ],
   "source": [
    "array_split([1,2,3,4,5,6,7,8,9])"
   ]
  },
  {
   "cell_type": "markdown",
   "id": "145507a8",
   "metadata": {},
   "source": [
    "# 5.\tWrite a Python Program to check if given array is Monotonic?\n",
    "Given an array A containing n integers. The task is to check whether the array is Monotonic or not. An array is monotonic if it is either monotone increasing or monotone decreasing."
   ]
  },
  {
   "cell_type": "code",
   "execution_count": 131,
   "id": "4a517384",
   "metadata": {},
   "outputs": [],
   "source": [
    "def Check_Monotonic(A):\n",
    "    return (all(A[i] <= A[i + 1] for i in range(len(A) - 1)) or\n",
    "      all(A[i] >= A[i + 1] for i in range(len(A) - 1)))"
   ]
  },
  {
   "cell_type": "code",
   "execution_count": 132,
   "id": "d44aa657",
   "metadata": {},
   "outputs": [
    {
     "data": {
      "text/plain": [
       "False"
      ]
     },
     "execution_count": 132,
     "metadata": {},
     "output_type": "execute_result"
    }
   ],
   "source": [
    "Check_Monotonic([1,2,3,4,2,6])"
   ]
  },
  {
   "cell_type": "markdown",
   "id": "57c41fc9",
   "metadata": {},
   "source": [
    "* all()\n",
    "  * Signature: all(iterable, /)\n",
    "  * Docstring: Return True if bool(x) is True for all values x in the iterable.If the iterable is empty, return True.\n",
    "  * Type:      builtin_function_or_method "
   ]
  },
  {
   "cell_type": "code",
   "execution_count": 133,
   "id": "f451bae6",
   "metadata": {},
   "outputs": [
    {
     "data": {
      "text/plain": [
       "True"
      ]
     },
     "execution_count": 133,
     "metadata": {},
     "output_type": "execute_result"
    }
   ],
   "source": [
    "Check_Monotonic([1,2,3,4,6])"
   ]
  },
  {
   "cell_type": "code",
   "execution_count": 134,
   "id": "f69173c7",
   "metadata": {},
   "outputs": [
    {
     "data": {
      "text/plain": [
       "True"
      ]
     },
     "execution_count": 134,
     "metadata": {},
     "output_type": "execute_result"
    }
   ],
   "source": [
    "Check_Monotonic([6,5,3,2,1])"
   ]
  },
  {
   "cell_type": "code",
   "execution_count": null,
   "id": "b5f9af2c",
   "metadata": {},
   "outputs": [],
   "source": []
  }
 ],
 "metadata": {
  "kernelspec": {
   "display_name": "Python 3 (ipykernel)",
   "language": "python",
   "name": "python3"
  },
  "language_info": {
   "codemirror_mode": {
    "name": "ipython",
    "version": 3
   },
   "file_extension": ".py",
   "mimetype": "text/x-python",
   "name": "python",
   "nbconvert_exporter": "python",
   "pygments_lexer": "ipython3",
   "version": "3.9.7"
  }
 },
 "nbformat": 4,
 "nbformat_minor": 5
}
