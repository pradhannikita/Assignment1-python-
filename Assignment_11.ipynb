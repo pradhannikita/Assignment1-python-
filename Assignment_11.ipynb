{
 "cells": [
  {
   "attachments": {},
   "cell_type": "markdown",
   "metadata": {},
   "source": [
    "### 1. Create an assert statement that throws an AssertionError if the variable spam is a negative integer.\n",
    "- https://www.geeksforgeeks.org/python-assertion-error/\n",
    "- https://docs.python.org/3/reference/simple_stmts.html#the-assert-statement\n",
    "- https://www.programiz.com/python-programming/assert-statement#:~:text=Python%20has%20built%2Din%20assert,program%20and%20gives%20an%20AssertionError%20."
   ]
  },
  {
   "cell_type": "code",
   "execution_count": 5,
   "metadata": {},
   "outputs": [],
   "source": [
    "def spam_value(spam):\n",
    "    assert spam>=0, 'spam is a negative integer'\n",
    "    return spam"
   ]
  },
  {
   "cell_type": "code",
   "execution_count": 6,
   "metadata": {},
   "outputs": [
    {
     "data": {
      "text/plain": [
       "1"
      ]
     },
     "execution_count": 6,
     "metadata": {},
     "output_type": "execute_result"
    }
   ],
   "source": [
    "# function will return the value of spam as condition under assert statement is True\n",
    "spam_value(1)"
   ]
  },
  {
   "cell_type": "code",
   "execution_count": 7,
   "metadata": {},
   "outputs": [
    {
     "ename": "AssertionError",
     "evalue": "spam is a negative integer",
     "output_type": "error",
     "traceback": [
      "\u001b[1;31m---------------------------------------------------------------------------\u001b[0m",
      "\u001b[1;31mAssertionError\u001b[0m                            Traceback (most recent call last)",
      "\u001b[1;32md:\\Data Scientist\\1_iNeuron\\02 Full Stack Data Science ineuron\\00 Assignment\\Python Basics\\Python_Basics_Assignments\\Assignment_11.ipynb Cell 4\u001b[0m in \u001b[0;36m<cell line: 1>\u001b[1;34m()\u001b[0m\n\u001b[1;32m----> <a href='vscode-notebook-cell:/d%3A/Data%20Scientist/1_iNeuron/02%20Full%20Stack%20Data%20Science%20ineuron/00%20Assignment/Python%20Basics/Python_Basics_Assignments/Assignment_11.ipynb#W5sZmlsZQ%3D%3D?line=0'>1</a>\u001b[0m spam_value(\u001b[39m-\u001b[39;49m\u001b[39m1\u001b[39;49m)\n",
      "\u001b[1;32md:\\Data Scientist\\1_iNeuron\\02 Full Stack Data Science ineuron\\00 Assignment\\Python Basics\\Python_Basics_Assignments\\Assignment_11.ipynb Cell 4\u001b[0m in \u001b[0;36mspam_value\u001b[1;34m(spam)\u001b[0m\n\u001b[0;32m      <a href='vscode-notebook-cell:/d%3A/Data%20Scientist/1_iNeuron/02%20Full%20Stack%20Data%20Science%20ineuron/00%20Assignment/Python%20Basics/Python_Basics_Assignments/Assignment_11.ipynb#W5sZmlsZQ%3D%3D?line=0'>1</a>\u001b[0m \u001b[39mdef\u001b[39;00m \u001b[39mspam_value\u001b[39m(spam):\n\u001b[1;32m----> <a href='vscode-notebook-cell:/d%3A/Data%20Scientist/1_iNeuron/02%20Full%20Stack%20Data%20Science%20ineuron/00%20Assignment/Python%20Basics/Python_Basics_Assignments/Assignment_11.ipynb#W5sZmlsZQ%3D%3D?line=1'>2</a>\u001b[0m     \u001b[39massert\u001b[39;00m spam\u001b[39m>\u001b[39m\u001b[39m=\u001b[39m\u001b[39m0\u001b[39m, \u001b[39m'\u001b[39m\u001b[39mspam is a negative integer\u001b[39m\u001b[39m'\u001b[39m\n\u001b[0;32m      <a href='vscode-notebook-cell:/d%3A/Data%20Scientist/1_iNeuron/02%20Full%20Stack%20Data%20Science%20ineuron/00%20Assignment/Python%20Basics/Python_Basics_Assignments/Assignment_11.ipynb#W5sZmlsZQ%3D%3D?line=2'>3</a>\u001b[0m     \u001b[39mreturn\u001b[39;00m spam\n",
      "\u001b[1;31mAssertionError\u001b[0m: spam is a negative integer"
     ]
    }
   ],
   "source": [
    "# function will return the assertion error message as condition is False\n",
    "spam_value(-1)"
   ]
  },
  {
   "attachments": {},
   "cell_type": "markdown",
   "metadata": {},
   "source": [
    "### 2. Write an assert statement that triggers an AssertionError if the variables eggs and bacon contain strings that are the same as each other, even if their cases are different (that is, 'hello' and 'hello' are considered the same, and 'goodbye' and 'GOODbye' are also considered the same).\n",
    "- https://realpython.com/python-assert-statement/\n"
   ]
  },
  {
   "cell_type": "code",
   "execution_count": 20,
   "metadata": {},
   "outputs": [],
   "source": [
    "def egg_bacon(egg,bacon):\n",
    "    assert egg.lower() != bacon.lower(), 'egg and bacon are not the same'\n",
    "    return egg,bacon"
   ]
  },
  {
   "cell_type": "code",
   "execution_count": 21,
   "metadata": {},
   "outputs": [
    {
     "ename": "AssertionError",
     "evalue": "egg and bacon are not the same",
     "output_type": "error",
     "traceback": [
      "\u001b[1;31m---------------------------------------------------------------------------\u001b[0m",
      "\u001b[1;31mAssertionError\u001b[0m                            Traceback (most recent call last)",
      "\u001b[1;32md:\\Data Scientist\\1_iNeuron\\02 Full Stack Data Science ineuron\\00 Assignment\\Python Basics\\Python_Basics_Assignments\\Assignment_11.ipynb Cell 7\u001b[0m in \u001b[0;36m<cell line: 1>\u001b[1;34m()\u001b[0m\n\u001b[1;32m----> <a href='vscode-notebook-cell:/d%3A/Data%20Scientist/1_iNeuron/02%20Full%20Stack%20Data%20Science%20ineuron/00%20Assignment/Python%20Basics/Python_Basics_Assignments/Assignment_11.ipynb#X11sZmlsZQ%3D%3D?line=0'>1</a>\u001b[0m egg_bacon(\u001b[39m'\u001b[39;49m\u001b[39mhello\u001b[39;49m\u001b[39m'\u001b[39;49m,\u001b[39m'\u001b[39;49m\u001b[39mhello\u001b[39;49m\u001b[39m'\u001b[39;49m)\n",
      "\u001b[1;32md:\\Data Scientist\\1_iNeuron\\02 Full Stack Data Science ineuron\\00 Assignment\\Python Basics\\Python_Basics_Assignments\\Assignment_11.ipynb Cell 7\u001b[0m in \u001b[0;36megg_bacon\u001b[1;34m(egg, bacon)\u001b[0m\n\u001b[0;32m      <a href='vscode-notebook-cell:/d%3A/Data%20Scientist/1_iNeuron/02%20Full%20Stack%20Data%20Science%20ineuron/00%20Assignment/Python%20Basics/Python_Basics_Assignments/Assignment_11.ipynb#X11sZmlsZQ%3D%3D?line=0'>1</a>\u001b[0m \u001b[39mdef\u001b[39;00m \u001b[39megg_bacon\u001b[39m(egg,bacon):\n\u001b[1;32m----> <a href='vscode-notebook-cell:/d%3A/Data%20Scientist/1_iNeuron/02%20Full%20Stack%20Data%20Science%20ineuron/00%20Assignment/Python%20Basics/Python_Basics_Assignments/Assignment_11.ipynb#X11sZmlsZQ%3D%3D?line=1'>2</a>\u001b[0m     \u001b[39massert\u001b[39;00m egg\u001b[39m.\u001b[39mlower() \u001b[39m!=\u001b[39m bacon\u001b[39m.\u001b[39mlower(), \u001b[39m'\u001b[39m\u001b[39megg and bacon are not the same\u001b[39m\u001b[39m'\u001b[39m\n\u001b[0;32m      <a href='vscode-notebook-cell:/d%3A/Data%20Scientist/1_iNeuron/02%20Full%20Stack%20Data%20Science%20ineuron/00%20Assignment/Python%20Basics/Python_Basics_Assignments/Assignment_11.ipynb#X11sZmlsZQ%3D%3D?line=2'>3</a>\u001b[0m     \u001b[39mreturn\u001b[39;00m egg,bacon\n",
      "\u001b[1;31mAssertionError\u001b[0m: egg and bacon are not the same"
     ]
    }
   ],
   "source": [
    "egg_bacon('hello','hello')# triggers the AssertionError"
   ]
  },
  {
   "cell_type": "code",
   "execution_count": 22,
   "metadata": {},
   "outputs": [
    {
     "ename": "AssertionError",
     "evalue": "egg and bacon are not the same",
     "output_type": "error",
     "traceback": [
      "\u001b[1;31m---------------------------------------------------------------------------\u001b[0m",
      "\u001b[1;31mAssertionError\u001b[0m                            Traceback (most recent call last)",
      "\u001b[1;32md:\\Data Scientist\\1_iNeuron\\02 Full Stack Data Science ineuron\\00 Assignment\\Python Basics\\Python_Basics_Assignments\\Assignment_11.ipynb Cell 8\u001b[0m in \u001b[0;36m<cell line: 1>\u001b[1;34m()\u001b[0m\n\u001b[1;32m----> <a href='vscode-notebook-cell:/d%3A/Data%20Scientist/1_iNeuron/02%20Full%20Stack%20Data%20Science%20ineuron/00%20Assignment/Python%20Basics/Python_Basics_Assignments/Assignment_11.ipynb#X12sZmlsZQ%3D%3D?line=0'>1</a>\u001b[0m egg_bacon(\u001b[39m'\u001b[39;49m\u001b[39mgoodbye\u001b[39;49m\u001b[39m'\u001b[39;49m, \u001b[39m'\u001b[39;49m\u001b[39mGOODBYE\u001b[39;49m\u001b[39m'\u001b[39;49m)\n",
      "\u001b[1;32md:\\Data Scientist\\1_iNeuron\\02 Full Stack Data Science ineuron\\00 Assignment\\Python Basics\\Python_Basics_Assignments\\Assignment_11.ipynb Cell 8\u001b[0m in \u001b[0;36megg_bacon\u001b[1;34m(egg, bacon)\u001b[0m\n\u001b[0;32m      <a href='vscode-notebook-cell:/d%3A/Data%20Scientist/1_iNeuron/02%20Full%20Stack%20Data%20Science%20ineuron/00%20Assignment/Python%20Basics/Python_Basics_Assignments/Assignment_11.ipynb#X12sZmlsZQ%3D%3D?line=0'>1</a>\u001b[0m \u001b[39mdef\u001b[39;00m \u001b[39megg_bacon\u001b[39m(egg,bacon):\n\u001b[1;32m----> <a href='vscode-notebook-cell:/d%3A/Data%20Scientist/1_iNeuron/02%20Full%20Stack%20Data%20Science%20ineuron/00%20Assignment/Python%20Basics/Python_Basics_Assignments/Assignment_11.ipynb#X12sZmlsZQ%3D%3D?line=1'>2</a>\u001b[0m     \u001b[39massert\u001b[39;00m egg\u001b[39m.\u001b[39mlower() \u001b[39m!=\u001b[39m bacon\u001b[39m.\u001b[39mlower(), \u001b[39m'\u001b[39m\u001b[39megg and bacon are not the same\u001b[39m\u001b[39m'\u001b[39m\n\u001b[0;32m      <a href='vscode-notebook-cell:/d%3A/Data%20Scientist/1_iNeuron/02%20Full%20Stack%20Data%20Science%20ineuron/00%20Assignment/Python%20Basics/Python_Basics_Assignments/Assignment_11.ipynb#X12sZmlsZQ%3D%3D?line=2'>3</a>\u001b[0m     \u001b[39mreturn\u001b[39;00m egg,bacon\n",
      "\u001b[1;31mAssertionError\u001b[0m: egg and bacon are not the same"
     ]
    }
   ],
   "source": [
    "egg_bacon('goodbye', 'GOODBYE')# triggers the AssertionError"
   ]
  },
  {
   "cell_type": "code",
   "execution_count": 23,
   "metadata": {},
   "outputs": [
    {
     "data": {
      "text/plain": [
       "('hello', 'goodbye')"
      ]
     },
     "execution_count": 23,
     "metadata": {},
     "output_type": "execute_result"
    }
   ],
   "source": [
    "egg_bacon('hello','goodbye')"
   ]
  },
  {
   "attachments": {},
   "cell_type": "markdown",
   "metadata": {},
   "source": [
    "### 3. Create an assert statement that throws an AssertionError every time."
   ]
  },
  {
   "cell_type": "code",
   "execution_count": 25,
   "metadata": {},
   "outputs": [
    {
     "ename": "AssertionError",
     "evalue": "Always triggers an AssertionError.",
     "output_type": "error",
     "traceback": [
      "\u001b[1;31m---------------------------------------------------------------------------\u001b[0m",
      "\u001b[1;31mAssertionError\u001b[0m                            Traceback (most recent call last)",
      "\u001b[1;32md:\\Data Scientist\\1_iNeuron\\02 Full Stack Data Science ineuron\\00 Assignment\\Python Basics\\Python_Basics_Assignments\\Assignment_11.ipynb Cell 11\u001b[0m in \u001b[0;36m<cell line: 1>\u001b[1;34m()\u001b[0m\n\u001b[1;32m----> <a href='vscode-notebook-cell:/d%3A/Data%20Scientist/1_iNeuron/02%20Full%20Stack%20Data%20Science%20ineuron/00%20Assignment/Python%20Basics/Python_Basics_Assignments/Assignment_11.ipynb#X14sZmlsZQ%3D%3D?line=0'>1</a>\u001b[0m \u001b[39massert\u001b[39;00m \u001b[39mFalse\u001b[39;00m, \u001b[39m'\u001b[39m\u001b[39mAlways triggers an AssertionError.\u001b[39m\u001b[39m'\u001b[39m\n",
      "\u001b[1;31mAssertionError\u001b[0m: Always triggers an AssertionError."
     ]
    }
   ],
   "source": [
    "assert False, 'Always triggers an AssertionError.'"
   ]
  },
  {
   "attachments": {},
   "cell_type": "markdown",
   "metadata": {},
   "source": [
    "# LOGGING QUESTIONS\n",
    "### 4. What are the two lines that must be present in your software in order to call logging.debug()?\n",
    "\n",
    "```python\n",
    "# importing logging module\n",
    "import logging\n",
    "# defining the name of the text file in which logg stores, levels, and format in which logg stores\n",
    "logging.basicConfig(\n",
    "    filename='programLog.txt',\n",
    "    level=logging.DEBUG,\n",
    "    format='%(asctime)s - %(levelname)s - %(message)s'\n",
    ")\n",
    "```\n",
    "\n"
   ]
  },
  {
   "attachments": {},
   "cell_type": "markdown",
   "metadata": {},
   "source": [
    "### 5. What are the two lines that your program must have in order to have logging.debug() send a logging message to a file named programLog.txt?\n",
    "- Test a logging.debug('message')\n",
    "- logging.debug('This is a test message.')"
   ]
  },
  {
   "attachments": {},
   "cell_type": "markdown",
   "metadata": {},
   "source": [
    "### 6. What are the five levels of logging?\n",
    "- https://docs.python.org/3/library/logging.html\n",
    "- CRITICAL, ERROR, WARNING, INFO, DEBUG, NOTSET\n",
    "- logging.debug() - variable's state and small details\n",
    "- logging.info() - general events, confirm a program is working\n",
    "- logging.warning() - potiental problem to work on in the future\n",
    "- logging.error() - record an error that caused program to fail to do something\n",
    "- logging.critical() - fatal error that has caused\n",
    "\n",
    "\n",
    "### 7. What line of code would you add to your software to disable all logging messages?\n",
    "```python\n",
    "logging.disable(logging.DEBUG)\n",
    "```\n",
    "### 8. Why is using logging messages better than using print() to display the same message?\n",
    "- One of the advantages of using the logging module to track our codes is the ability to format the messages based on our needs. For example, in my code, I would like to log the date and time with appropriate messages.\n",
    "- Python logging is a module that allows you to track events that occur while your program is running. You can use logging to record information about errors, warnings, and other events that occur during program execution. And logging is a useful tool for debugging, troubleshooting, and monitoring your program.\n",
    "\n",
    "# DEBUGGER QUESTIONS:\n",
    "### 9. What are the differences between the Step Over, Step In, and Step Out buttons in the debugger?\n",
    "- https://pawelgrzybek.com/continue-step-over-step-into-and-step-out-actions-in-visual-studio-code-debugger-explained/\n",
    "- https://www.fourkitchens.com/blog/article/step-step-through-debugging/\n",
    "- StepInto uns the next statement. If the current line contains a function call, Step Into steps into the most deeply nested function. If you use Step Into on a line of code like Func1(Func2()), the debugger steps into the function Func2. If the current line doesn’t contain a function call, Step Into runs the code then suspends execution at the next line of code.\n",
    "- StepOver runs the next statement without stepping into functions or methods. If the current line contains a function call, Step Over runs the code then suspends execution at the first line of code after the called function returns.\n",
    "- StepOut: If the debugger is within a nested scope, this action proceeds until the function returns (exits the current execution context). In case the debugger is within the global scope, this action executes the program to the end.\n",
    "\n",
    "### 10. After you click Continue, when will the debugger stop ?\n",
    "- Debugger executes the program and “breaks” only on user-defined breakpoints (red circles).\n",
    "\n",
    "### 11. What is the concept of a breakpoint?\n",
    "- Breakpoint – A line number of interest in your program. When the debugger is running it halts execution of the program at this line."
   ]
  },
  {
   "cell_type": "markdown",
   "metadata": {},
   "source": []
  }
 ],
 "metadata": {
  "kernelspec": {
   "display_name": "base",
   "language": "python",
   "name": "python3"
  },
  "language_info": {
   "codemirror_mode": {
    "name": "ipython",
    "version": 3
   },
   "file_extension": ".py",
   "mimetype": "text/x-python",
   "name": "python",
   "nbconvert_exporter": "python",
   "pygments_lexer": "ipython3",
   "version": "3.9.12"
  },
  "orig_nbformat": 4,
  "vscode": {
   "interpreter": {
    "hash": "c42d99d755d00efaf066b964ceed011a4027ae5af520c8ef8190b9acee3a6094"
   }
  }
 },
 "nbformat": 4,
 "nbformat_minor": 2
}
