{
 "cells": [
  {
   "cell_type": "markdown",
   "id": "09a232a2",
   "metadata": {},
   "source": [
    "# Assignment 9:"
   ]
  },
  {
   "cell_type": "markdown",
   "id": "3c41fbe7",
   "metadata": {},
   "source": [
    "1. To what does a relative path refer?\n",
    "2. What does an absolute path start with your operating system?\n",
    "3. What do the functions os.getcwd() and os.chdir() do?\n",
    "4. What are the . and .. folders?\n",
    "5. In C:\\bacon\\eggs\\spam.txt, which part is the dir name, and which part is the base name?\n",
    "6. What are the three “mode” arguments that can be passed to the open() function?\n",
    "7. What happens if an existing file is opened in write mode?\n",
    "8. How do you tell the difference between read() and readlines()?\n",
    "9. What data structure does a shelf value resemble?"
   ]
  },
  {
   "cell_type": "markdown",
   "id": "9852e03f",
   "metadata": {},
   "source": [
    "# 1. To what does a relative path refer?\n",
    "A relative path refers to a location that is relative to a current directory. A relative path that depicts the location of a file or folder is relative to the current working directory. Unlike absolute paths, relative paths contain information that is only relative to the current document within the same website, which avoids the need to provide a full absolute path."
   ]
  },
  {
   "cell_type": "markdown",
   "id": "9222d323",
   "metadata": {},
   "source": [
    "# 2. What does an absolute path start with your operating system?\n",
    "An absolute path is defined as specifying the location of a file or directory from the root directory(/). In other words,we can say that an absolute path is a complete path from start of actual file system from / directory. Absolute path names always begin with the slash (/) symbol. Traces the path from the current directory through its parent or its subdirectories and files. An absolute path name represents the complete name of a directory or file from the /(root) directory downward. Absolute paths ensure that Python can find the exact file on your computer."
   ]
  },
  {
   "cell_type": "markdown",
   "id": "3417da0c",
   "metadata": {},
   "source": [
    "# 3. What do the functions os.getcwd() and os.chdir() do?\n",
    "\n",
    "* getcwd() : CWD stands for Current Working Directory. This function allows you to see what your current working directory is. What does os Getcwd () do? No parameter is required. This method returns a string which represents the current working directory.\n",
    "* chdir(\"path-to-dir\") : Short for CHange DIRectory, this function allows you to set the current working directory to a path of your choice."
   ]
  },
  {
   "cell_type": "markdown",
   "id": "f8b00e57",
   "metadata": {},
   "source": [
    "# 4. What are the . and .. folders?\n",
    "Relative paths make use of two special symbols, a dot (.) and a double-dot (..), which translate into the current directory and the parent directory. "
   ]
  },
  {
   "cell_type": "markdown",
   "id": "af49ce99",
   "metadata": {},
   "source": [
    "# 5. In C:\\bacon\\eggs\\spam.txt, which part is the dir name, and which part is the base name?\n",
    "\n",
    "bacon: directory\n",
    "base name: spam.txt"
   ]
  },
  {
   "cell_type": "markdown",
   "id": "b33d5976",
   "metadata": {},
   "source": [
    "# 6. What are the three “mode” arguments that can be passed to the open() function?\n",
    "\n",
    "\n",
    "The access modes available for the open() function are as follows:\n",
    "\n",
    "* r: Opens the file in read-only mode. Starts reading from the beginning of the file and is the default mode for the open() function.\n",
    "* rb: Opens the file as read-only in binary format and starts reading from the beginning of the file. While binary format can be used for different purposes, it is usually used when dealing with things like images, videos, etc.\n",
    "* r+: Opens a file for reading and writing, placing the pointer at the beginning of the file.\n",
    "* w: Opens in write-only mode. The pointer is placed at the beginning of the file and this will overwrite any existing file with the same name. It will create a new file if one with the same name doesn't exist.\n",
    "* wb: Opens a write-only file in binary mode.\n",
    "* w+: Opens a file for writing and reading.\n",
    "* wb+: Opens a file for writing and reading in binary mode.\n",
    "* a: Opens a file for appending new information to it. The pointer is placed at the end of the file. A new file is created if one with the same name doesn't exist.\n",
    "* ab: Opens a file for appending in binary mode.\n",
    "* a+: Opens a file for both appending and reading.\n",
    "* ab+: Opens a file for both appending and reading in binary mode."
   ]
  },
  {
   "cell_type": "markdown",
   "id": "68cefb52",
   "metadata": {},
   "source": [
    "# 7. What happens if an existing file is opened in write mode?\n",
    "The pointer is placed at the beginning of the file and this will overwrite any existing file with the same name. It will create a new file if one with the same name doesn't exist. If a file with the same name already exists, its contents are discarded and the file is treated as a new empty file."
   ]
  },
  {
   "cell_type": "markdown",
   "id": "6a8e38bd",
   "metadata": {},
   "source": [
    "# 8. How do you tell the difference between read() and readlines()?\n",
    "The main difference is that read() will read the whole file at once and then print out the first characters that take up as many bytes as you specify in the parenthesis versus the readline() that will read and print out only the first characters that take up as many bytes as you specify in the parenthesis."
   ]
  },
  {
   "cell_type": "markdown",
   "id": "5f47cabd",
   "metadata": {},
   "source": [
    "# 9. What data structure does a shelf value resemble?\n",
    "A shelf value resembles a dictionary value; it has keys and values, along with keys() and values() methods that work similarly to the dictionary methods of the same names."
   ]
  },
  {
   "cell_type": "code",
   "execution_count": null,
   "id": "15187ccc",
   "metadata": {},
   "outputs": [],
   "source": []
  },
  {
   "cell_type": "code",
   "execution_count": null,
   "id": "8498c435",
   "metadata": {},
   "outputs": [],
   "source": []
  }
 ],
 "metadata": {
  "kernelspec": {
   "display_name": "Python 3 (ipykernel)",
   "language": "python",
   "name": "python3"
  },
  "language_info": {
   "codemirror_mode": {
    "name": "ipython",
    "version": 3
   },
   "file_extension": ".py",
   "mimetype": "text/x-python",
   "name": "python",
   "nbconvert_exporter": "python",
   "pygments_lexer": "ipython3",
   "version": "3.9.7"
  }
 },
 "nbformat": 4,
 "nbformat_minor": 5
}
