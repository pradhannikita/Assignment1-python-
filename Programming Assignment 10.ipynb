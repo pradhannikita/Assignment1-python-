{
 "cells": [
  {
   "attachments": {},
   "cell_type": "markdown",
   "metadata": {},
   "source": [
    "# Programming Assignment 10\n",
    "\n",
    "1. Write a Python program to find sum of elements in list?\n",
    "2. Write a Python program to  Multiply all numbers in the list?\n",
    "3. Write a Python program to find smallest number in a list?\n",
    "4. Write a Python program to find largest number in a list?\n",
    "5. Write a Python program to find second largest number in a list?\n",
    "6. Write a Python program to find N largest elements from a list?\n",
    "7. Write a Python program to print even numbers in a list?\n",
    "8. Write a Python program to print odd numbers in a List?\n",
    "9. Write a Python program to Remove empty List from List?\n",
    "10. Write a Python program to Cloning or Copying a list?\n",
    "11. Write a Python program to Count occurrences of an element in a list?\n",
    "\n",
    "## 1. Write a Python program to find sum of elements in list?"
   ]
  },
  {
   "cell_type": "code",
   "execution_count": 42,
   "metadata": {},
   "outputs": [
    {
     "name": "stdout",
     "output_type": "stream",
     "text": [
      "Length of the list entered by user is: 8\n",
      "List is created successfully.\n",
      "mylist = [1, 2, 3, 4, 5, 5, 6, 7]\n"
     ]
    }
   ],
   "source": [
    "def create_list():\n",
    "    '''\n",
    "    This function creates a list from user input\n",
    "    '''\n",
    "    try:\n",
    "        mylist = []\n",
    "        n = 0\n",
    "        n = int(input(\"Enter the length of the list you want to create: \"))\n",
    "        print(f\"Length of the list entered by user is: {n}\")\n",
    "        while n>0:\n",
    "            mylist.append(int(input(\"Enter number of elements : \")))\n",
    "            n = n-1\n",
    "\n",
    "    except:\n",
    "        if n <0:\n",
    "            print(\"Please enter a positive number\")\n",
    "        print(\"Please enter a numeric value only for the list elements.\")\n",
    "    \n",
    "    else:\n",
    "        print(f\"List is created successfully.\")\n",
    "    return(mylist)\n",
    "\n",
    "\n",
    "#driver code\n",
    "mylist = create_list()\n",
    "print(f\"mylist = {mylist}\")\n",
    "\n"
   ]
  },
  {
   "cell_type": "code",
   "execution_count": 43,
   "metadata": {},
   "outputs": [
    {
     "name": "stdout",
     "output_type": "stream",
     "text": [
      "Summation of elements done successfully.\n",
      "Summation of the elements of the list [1, 2, 3, 4, 5, 5, 6, 7] is: 33\n"
     ]
    }
   ],
   "source": [
    "def sum_list(mylist):\n",
    "    '''\n",
    "    This function calculates the sum of the elements of list\n",
    "    '''\n",
    "    try:\n",
    "        s = 0\n",
    "        for i in mylist:\n",
    "            s = i+s\n",
    "        \n",
    "    except Exception as e:\n",
    "        print(e)\n",
    "    else:\n",
    "        print(\"Summation of elements done successfully.\")\n",
    "    return (s)\n",
    "\n",
    "\n",
    "\n",
    "#driver code\n",
    "summ = sum_list(mylist)\n",
    "print(f\"Summation of the elements of the list {mylist} is: {summ}\")\n"
   ]
  },
  {
   "cell_type": "markdown",
   "metadata": {},
   "source": [
    "## 2. Write a Python program to  Multiply all numbers in the list?"
   ]
  },
  {
   "cell_type": "code",
   "execution_count": 44,
   "metadata": {},
   "outputs": [
    {
     "name": "stdout",
     "output_type": "stream",
     "text": [
      "Product of elements done successfully.\n",
      "Product of the elements of the list [1, 2, 3, 4, 5, 5, 6, 7] is: 25200\n"
     ]
    }
   ],
   "source": [
    "def multi_list(mylist):\n",
    "    '''\n",
    "    This function calculates the multiplication of the elements of list\n",
    "    '''\n",
    "    try:\n",
    "        s = 1    \n",
    "        for i in mylist:\n",
    "            s = i*s\n",
    "        \n",
    "    except Exception as e:\n",
    "        print(e)\n",
    "    else:\n",
    "        print(\"Product of elements done successfully.\")\n",
    "    return (s)\n",
    "\n",
    "\n",
    "\n",
    "#driver code\n",
    "multip = multi_list(mylist)\n",
    "print(f\"Product of the elements of the list {mylist} is: {multip}\")\n"
   ]
  },
  {
   "attachments": {},
   "cell_type": "markdown",
   "metadata": {},
   "source": [
    "3. Write a Python program to find smallest number in a list?\n"
   ]
  },
  {
   "cell_type": "code",
   "execution_count": 45,
   "metadata": {},
   "outputs": [
    {
     "name": "stdout",
     "output_type": "stream",
     "text": [
      "Smallest element of the list is found successfully.\n",
      "Smallest element of the list [1, 2, 3, 4, 5, 5, 6, 7] is : 1\n"
     ]
    }
   ],
   "source": [
    "def smallest_ele(mylist):\n",
    "    '''\n",
    "    This function finds the smallest element of list\n",
    "    '''\n",
    "    try:\n",
    "        s = 0   \n",
    "        s=min(mylist)\n",
    "            \n",
    "        \n",
    "    except Exception as e:\n",
    "        print(e)\n",
    "    else:\n",
    "        print(\"Smallest element of the list is found successfully.\")\n",
    "    return (s)\n",
    "\n",
    "\n",
    "\n",
    "#driver code\n",
    "smallest_element = smallest_ele(mylist)\n",
    "print(f\"Smallest element of the list {mylist} is : {smallest_element}\")\n"
   ]
  },
  {
   "attachments": {},
   "cell_type": "markdown",
   "metadata": {},
   "source": [
    "```\n",
    "q = mylist\n",
    "min(q) # not change the list\n",
    "q.sort() # change the list\n",
    "q[0]\n",
    "```"
   ]
  },
  {
   "cell_type": "markdown",
   "metadata": {},
   "source": [
    "## 4. Write a Python program to find largest number in a list?\n"
   ]
  },
  {
   "cell_type": "code",
   "execution_count": 46,
   "metadata": {},
   "outputs": [
    {
     "name": "stdout",
     "output_type": "stream",
     "text": [
      "Largest element of the list is found successfully.\n",
      "Largest element of the list [1, 2, 3, 4, 5, 5, 6, 7] is : 7\n"
     ]
    }
   ],
   "source": [
    "def largest_ele(mylist):\n",
    "    '''\n",
    "    This function finds the largest element of list\n",
    "    '''\n",
    "    try:\n",
    "        s = 0   \n",
    "        s=max(mylist)\n",
    "            \n",
    "        \n",
    "    except Exception as e:\n",
    "        print(e)\n",
    "    else:\n",
    "        print(\"Largest element of the list is found successfully.\")\n",
    "    return (s)\n",
    "\n",
    "\n",
    "\n",
    "#driver code\n",
    "largest_element = largest_ele(mylist)\n",
    "print(f\"Largest element of the list {mylist} is : {largest_element}\")\n"
   ]
  },
  {
   "cell_type": "markdown",
   "metadata": {},
   "source": [
    "## 5. Write a Python program to find second largest number in a list?\n"
   ]
  },
  {
   "cell_type": "code",
   "execution_count": 54,
   "metadata": {},
   "outputs": [
    {
     "name": "stdout",
     "output_type": "stream",
     "text": [
      "Second Largest element of the list is found successfully.\n",
      "Largest element of the list [1, 2, 3, 4, 5, 5, 6, 7] is : 2\n"
     ]
    }
   ],
   "source": [
    "def slargest_ele(mylist):\n",
    "    '''\n",
    "    This function finds the second largest element of list\n",
    "    '''\n",
    "    try:  \n",
    "        s = 0\n",
    "        mylist.sort()\n",
    "        s = mylist[1]\n",
    "            \n",
    "        \n",
    "    except Exception as e:\n",
    "        print(f\"Error is: {e}\")\n",
    "    else:\n",
    "        print(\"Second Largest element of the list is found successfully.\")\n",
    "    return (s)\n",
    "\n",
    "\n",
    "\n",
    "#driver code\n",
    "second_largest_element = slargest_ele(mylist)\n",
    "print(f\"Largest element of the list {mylist} is : {second_largest_element}\")\n"
   ]
  },
  {
   "cell_type": "markdown",
   "metadata": {},
   "source": [
    "\n",
    "## 6. Write a Python program to find N largest elements from a list?\n"
   ]
  },
  {
   "cell_type": "code",
   "execution_count": 58,
   "metadata": {},
   "outputs": [
    {
     "name": "stdout",
     "output_type": "stream",
     "text": [
      "we will find 6 largest elements of the list\n",
      "6 Largest elements of the list are found successfully.\n",
      "N Largest elements of the list [1, 2, 3, 4, 5, 5, 6, 7] are : [1, 2, 3, 4, 5, 5]\n"
     ]
    }
   ],
   "source": [
    "def Nlargest_ele(mylist):\n",
    "    '''\n",
    "    This function finds the N largest elements of list\n",
    "    '''\n",
    "    try:  \n",
    "        s = []\n",
    "        N = int(input(\"Enter the number of largest elements want to find: \"))\n",
    "        print(f\"we will find {N} largest elements of the list\")\n",
    "        mylist.sort()\n",
    "        s = mylist[:N]\n",
    "            \n",
    "        \n",
    "    except Exception as e:\n",
    "        print(f\"Error is: {e}\")\n",
    "    else:\n",
    "        print(f\"{N} Largest elements of the list are found successfully.\")\n",
    "    return (s)\n",
    "\n",
    "\n",
    "\n",
    "#driver code\n",
    "nlargest_element = Nlargest_ele(mylist)\n",
    "print(f\"N Largest elements of the list {mylist} are : {nlargest_element}\")\n"
   ]
  },
  {
   "cell_type": "code",
   "execution_count": null,
   "metadata": {},
   "outputs": [],
   "source": [
    "## 7. Write a Python program to print even numbers in a list?\n"
   ]
  },
  {
   "cell_type": "code",
   "execution_count": 71,
   "metadata": {},
   "outputs": [
    {
     "name": "stdout",
     "output_type": "stream",
     "text": [
      "Even and Odd elements of the list are found successfully.\n",
      "Even elements of the list [1, 2, 3, 4, 5, 5, 6, 7] are : [2, 4, 6]\n",
      "Odd elements of the list [1, 2, 3, 4, 5, 5, 6, 7] are : [1, 3, 5, 5, 7]\n"
     ]
    }
   ],
   "source": [
    "def even_odd_ele(mylist):\n",
    "    '''\n",
    "    This function finds the even and odd elements of list\n",
    "    '''\n",
    "    try:  \n",
    "        e = []\n",
    "        o = []\n",
    "        for i in mylist:\n",
    "            if i%2==0:\n",
    "                e.append(i)\n",
    "            else:\n",
    "                o.append(i)\n",
    "\n",
    "            \n",
    "    except Exception as E:\n",
    "       print(f\"Error is: {E}\")\n",
    "\n",
    "    else:\n",
    "        print(f\"Even and Odd elements of the list are found successfully.\")\n",
    "    return (e,o)\n",
    "\n",
    "\n",
    "\n",
    "#driver code\n",
    "even_ele, odd_ele =  even_odd_ele(mylist)\n",
    "print(f\"Even elements of the list {mylist} are : {even_ele}\")\n",
    "print(f\"Odd elements of the list {mylist} are : {odd_ele}\")\n"
   ]
  },
  {
   "cell_type": "markdown",
   "metadata": {},
   "source": [
    "9. Write a Python program to Remove empty List from List?\n"
   ]
  },
  {
   "cell_type": "code",
   "execution_count": 79,
   "metadata": {},
   "outputs": [
    {
     "data": {
      "text/plain": [
       "[[1, 2, 3, 4, 5, 5, 6, 7], [], [], [1, 2, 3, 4, 5], []]"
      ]
     },
     "execution_count": 79,
     "metadata": {},
     "output_type": "execute_result"
    }
   ],
   "source": [
    "list_with_empty = [mylist,[],[],mylist[:5],[]]\n",
    "list_with_empty"
   ]
  },
  {
   "cell_type": "code",
   "execution_count": 80,
   "metadata": {},
   "outputs": [
    {
     "name": "stdout",
     "output_type": "stream",
     "text": [
      "All the empty lists are successfully removed from list [[1, 2, 3, 4, 5, 5, 6, 7], [], [], [1, 2, 3, 4, 5], []].\n",
      "List became: [[1, 2, 3, 4, 5, 5, 6, 7], [1, 2, 3, 4, 5]].\n"
     ]
    }
   ],
   "source": [
    "def empty_list_remover(mylist):\n",
    "    '''\n",
    "    This function to remove the empty list from a list\n",
    "    '''\n",
    "    try:  \n",
    "        s = []\n",
    "        for i in mylist:\n",
    "            if type(i) == list:\n",
    "                if len(i) != 0:\n",
    "                    s.append(i)\n",
    "    \n",
    "            \n",
    "    except Exception as E:\n",
    "       print(f\"Error is: {E}\")\n",
    "\n",
    "    else:\n",
    "        print(f\"All the empty lists are successfully removed from list {list_with_empty}.\")\n",
    "    return (s)\n",
    "\n",
    "\n",
    "\n",
    "#driver code\n",
    "list_noempty = empty_list_remover(list_with_empty)\n",
    "print(f\"List became: {list_noempty}.\")\n"
   ]
  },
  {
   "cell_type": "markdown",
   "metadata": {},
   "source": [
    "## 10. Write a Python program to Cloning or Copying a list?"
   ]
  },
  {
   "cell_type": "code",
   "execution_count": 84,
   "metadata": {},
   "outputs": [
    {
     "name": "stdout",
     "output_type": "stream",
     "text": [
      "[1, 2, 3, 4, 5, 5, 6, 7, 'q']\n",
      "[1, 2, 3, 4, 5, 5, 6, 7, 'q']\n"
     ]
    }
   ],
   "source": [
    "# assignmnet operator\n",
    "a = mylist\n",
    "a.append('q')\n",
    "print(a)\n",
    "print(mylist)"
   ]
  },
  {
   "cell_type": "code",
   "execution_count": 86,
   "metadata": {},
   "outputs": [
    {
     "name": "stdout",
     "output_type": "stream",
     "text": [
      "[1, 2, 3, 4, 5, 5, 6, 7, 'q', 'q']\n",
      "[1, 2, 3, 4, 5, 5, 6, 7, 'q']\n"
     ]
    }
   ],
   "source": [
    "# copy method\n",
    "b = mylist.copy()\n",
    "b.append('q')\n",
    "print(b)\n",
    "print(mylist)"
   ]
  },
  {
   "cell_type": "markdown",
   "metadata": {},
   "source": [
    "## 11. Write a Python program to Count occurrences of an element in a list?\n"
   ]
  },
  {
   "cell_type": "code",
   "execution_count": 94,
   "metadata": {},
   "outputs": [
    {
     "name": "stdout",
     "output_type": "stream",
     "text": [
      "q has occurred 1 times in [1, 2, 3, 4, 5, 5, 6, 7, 'q']\n"
     ]
    }
   ],
   "source": [
    "import operator as op\n",
    "def find_occurrence(mylist, element):\n",
    "    '''\n",
    "    This function to  count the occurrence of an element in a list\n",
    "    '''\n",
    "    try:  \n",
    "        s = op.countOf(mylist, element)\n",
    "            \n",
    "    except Exception as E:\n",
    "       print(f\"Error is: {E}\")\n",
    "\n",
    "    else:\n",
    "        print(f\"{element} has occurred {s} times in {mylist}\") \n",
    "        \n",
    "    return (s)\n",
    "\n",
    "\n",
    "\n",
    "#driver code\n",
    "num = find_occurrence(mylist,'q')\n",
    "\n"
   ]
  },
  {
   "cell_type": "code",
   "execution_count": null,
   "metadata": {},
   "outputs": [],
   "source": []
  }
 ],
 "metadata": {
  "kernelspec": {
   "display_name": "base",
   "language": "python",
   "name": "python3"
  },
  "language_info": {
   "codemirror_mode": {
    "name": "ipython",
    "version": 3
   },
   "file_extension": ".py",
   "mimetype": "text/x-python",
   "name": "python",
   "nbconvert_exporter": "python",
   "pygments_lexer": "ipython3",
   "version": "3.9.12"
  },
  "orig_nbformat": 4
 },
 "nbformat": 4,
 "nbformat_minor": 2
}
